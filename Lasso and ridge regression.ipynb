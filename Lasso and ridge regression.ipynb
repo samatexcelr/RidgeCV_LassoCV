{
 "cells": [
  {
   "cell_type": "markdown",
   "id": "c8733406",
   "metadata": {},
   "source": [
    "# Lasso regressor"
   ]
  },
  {
   "cell_type": "code",
   "execution_count": 1,
   "id": "684d3251",
   "metadata": {},
   "outputs": [],
   "source": [
    "#libraries\n",
    "import pandas as pd\n",
    "import numpy as np\n",
    "import seaborn as sns\n",
    "import matplotlib.pyplot as plt\n",
    "from sklearn.model_selection import train_test_split \n",
    "from sklearn.linear_model import LinearRegression, Ridge, Lasso, ElasticNet\n",
    "from sklearn.preprocessing import StandardScaler\n",
    "from sklearn.datasets import fetch_california_housing\n",
    "import sklearn.cross_decomposition as cv\n",
    "import sklearn"
   ]
  },
  {
   "cell_type": "code",
   "execution_count": 2,
   "id": "67688b55",
   "metadata": {},
   "outputs": [],
   "source": [
    "dataset = fetch_california_housing()\n",
    "X = dataset['data']\n",
    "y = dataset['target']\n",
    "X_train, X_test, y_train, y_test = train_test_split(X, y, test_size=0.20, random_state=15)"
   ]
  },
  {
   "cell_type": "code",
   "execution_count": 3,
   "id": "b5c37b9a",
   "metadata": {
    "collapsed": true
   },
   "outputs": [
    {
     "data": {
      "text/plain": [
       "{'data': array([[   8.3252    ,   41.        ,    6.98412698, ...,    2.55555556,\n",
       "           37.88      , -122.23      ],\n",
       "        [   8.3014    ,   21.        ,    6.23813708, ...,    2.10984183,\n",
       "           37.86      , -122.22      ],\n",
       "        [   7.2574    ,   52.        ,    8.28813559, ...,    2.80225989,\n",
       "           37.85      , -122.24      ],\n",
       "        ...,\n",
       "        [   1.7       ,   17.        ,    5.20554273, ...,    2.3256351 ,\n",
       "           39.43      , -121.22      ],\n",
       "        [   1.8672    ,   18.        ,    5.32951289, ...,    2.12320917,\n",
       "           39.43      , -121.32      ],\n",
       "        [   2.3886    ,   16.        ,    5.25471698, ...,    2.61698113,\n",
       "           39.37      , -121.24      ]]),\n",
       " 'target': array([4.526, 3.585, 3.521, ..., 0.923, 0.847, 0.894]),\n",
       " 'frame': None,\n",
       " 'target_names': ['MedHouseVal'],\n",
       " 'feature_names': ['MedInc',\n",
       "  'HouseAge',\n",
       "  'AveRooms',\n",
       "  'AveBedrms',\n",
       "  'Population',\n",
       "  'AveOccup',\n",
       "  'Latitude',\n",
       "  'Longitude'],\n",
       " 'DESCR': '.. _california_housing_dataset:\\n\\nCalifornia Housing dataset\\n--------------------------\\n\\n**Data Set Characteristics:**\\n\\n:Number of Instances: 20640\\n\\n:Number of Attributes: 8 numeric, predictive attributes and the target\\n\\n:Attribute Information:\\n    - MedInc        median income in block group\\n    - HouseAge      median house age in block group\\n    - AveRooms      average number of rooms per household\\n    - AveBedrms     average number of bedrooms per household\\n    - Population    block group population\\n    - AveOccup      average number of household members\\n    - Latitude      block group latitude\\n    - Longitude     block group longitude\\n\\n:Missing Attribute Values: None\\n\\nThis dataset was obtained from the StatLib repository.\\nhttps://www.dcc.fc.up.pt/~ltorgo/Regression/cal_housing.html\\n\\nThe target variable is the median house value for California districts,\\nexpressed in hundreds of thousands of dollars ($100,000).\\n\\nThis dataset was derived from the 1990 U.S. census, using one row per census\\nblock group. A block group is the smallest geographical unit for which the U.S.\\nCensus Bureau publishes sample data (a block group typically has a population\\nof 600 to 3,000 people).\\n\\nA household is a group of people residing within a home. Since the average\\nnumber of rooms and bedrooms in this dataset are provided per household, these\\ncolumns may take surprisingly large values for block groups with few households\\nand many empty houses, such as vacation resorts.\\n\\nIt can be downloaded/loaded using the\\n:func:`sklearn.datasets.fetch_california_housing` function.\\n\\n.. topic:: References\\n\\n    - Pace, R. Kelley and Ronald Barry, Sparse Spatial Autoregressions,\\n      Statistics and Probability Letters, 33 (1997) 291-297\\n'}"
      ]
     },
     "execution_count": 3,
     "metadata": {},
     "output_type": "execute_result"
    }
   ],
   "source": [
    "dataset"
   ]
  },
  {
   "cell_type": "code",
   "execution_count": 4,
   "id": "92fa17a2",
   "metadata": {},
   "outputs": [
    {
     "data": {
      "text/plain": [
       "((20640, 8), (20640,))"
      ]
     },
     "execution_count": 4,
     "metadata": {},
     "output_type": "execute_result"
    }
   ],
   "source": [
    "X.shape, y.shape"
   ]
  },
  {
   "cell_type": "code",
   "execution_count": 5,
   "id": "8168b65b",
   "metadata": {},
   "outputs": [
    {
     "data": {
      "text/plain": [
       "((16512, 8), (4128, 8), (16512,), (4128,))"
      ]
     },
     "execution_count": 5,
     "metadata": {},
     "output_type": "execute_result"
    }
   ],
   "source": [
    "X_train.shape, X_test.shape, y_train.shape, y_test.shape"
   ]
  },
  {
   "cell_type": "code",
   "execution_count": 6,
   "id": "f2dea88c",
   "metadata": {},
   "outputs": [
    {
     "name": "stdout",
     "output_type": "stream",
     "text": [
      "The train score for LR model is 0.6090156808313738\n"
     ]
    }
   ],
   "source": [
    "# Linear Regression\n",
    "LR = LinearRegression()\n",
    "LR.fit(X_train,y_train)\n",
    "train_score_LR = LR.score(X_train,y_train)\n",
    "print(\"The train score for LR model is {}\".format(train_score_LR))"
   ]
  },
  {
   "cell_type": "code",
   "execution_count": 7,
   "id": "1e74b027",
   "metadata": {},
   "outputs": [
    {
     "name": "stdout",
     "output_type": "stream",
     "text": [
      ".........................Lasso Model............................................\n",
      "The train score for lasso model is 0.5488267992849574\n"
     ]
    }
   ],
   "source": [
    "#Lasso regression model\n",
    "print(\".........................Lasso Model............................................\")\n",
    "lasso = Lasso(alpha = 0.1)\n",
    "lasso.fit(X_train,y_train)\n",
    "train_score_ls =lasso.score(X_train,y_train)\n",
    "print(\"The train score for lasso model is {}\".format(train_score_ls))"
   ]
  },
  {
   "cell_type": "code",
   "execution_count": 8,
   "id": "b6bf57d5",
   "metadata": {},
   "outputs": [
    {
     "name": "stdout",
     "output_type": "stream",
     "text": [
      "Ridge Model............................................\n",
      "The train score for ridge model is 0.6090156804624769\n"
     ]
    }
   ],
   "source": [
    "#Ridge Regression Model\n",
    "print(\"Ridge Model............................................\")\n",
    "ridgeReg = Ridge(alpha=0.1)\n",
    "ridgeReg.fit(X_train,y_train)\n",
    "train_score_ridge = ridgeReg.score(X_train, y_train)\n",
    "print(\"The train score for ridge model is {}\".format(train_score_ridge))"
   ]
  },
  {
   "cell_type": "code",
   "execution_count": 9,
   "id": "df6341a2",
   "metadata": {},
   "outputs": [],
   "source": [
    "#ElasticNet Regression Model\n",
    "enet_model = ElasticNet(alpha = 0.1).fit(X_train, y_train)\n",
    "train_enet_score = enet_model.score(X_train, y_train)"
   ]
  },
  {
   "cell_type": "code",
   "execution_count": 10,
   "id": "329f5d1f",
   "metadata": {},
   "outputs": [],
   "source": [
    "# Testing a model on testing data set\n",
    "LR_test_score = LR.score(X_test,y_test)\n",
    "lasso_test_score =lasso.score(X_test,y_test)\n",
    "Ridge_test_score =ridgeReg.score(X_test,y_test)\n",
    "enet_test_score = enet_model.score(X_test,y_test)\n",
    "\n",
    "result = pd.DataFrame({'LR score':[train_score_LR,LR_test_score],\n",
    "                     'Lasso score': [train_score_ls,lasso_test_score],\n",
    "                     'Ridge score':[train_score_ridge,Ridge_test_score],\n",
    "                     'Enet score':[train_enet_score,enet_test_score]}, \n",
    "                      index = ['Train score','Test score'])"
   ]
  },
  {
   "cell_type": "code",
   "execution_count": 11,
   "id": "06e881d0",
   "metadata": {},
   "outputs": [
    {
     "name": "stdout",
     "output_type": "stream",
     "text": [
      "             LR score  Lasso score  Ridge score  Enet score\n",
      "Train score  0.609016     0.548827     0.609016    0.579716\n",
      "Test score   0.594579     0.523638     0.594578    0.557387\n"
     ]
    }
   ],
   "source": [
    "print(result)"
   ]
  },
  {
   "cell_type": "code",
   "execution_count": 12,
   "id": "9929234b",
   "metadata": {},
   "outputs": [
    {
     "data": {
      "image/png": "[encoded data removed]",
      "text/plain": [
       "<Figure size 600x600 with 1 Axes>"
      ]
     },
     "metadata": {},
     "output_type": "display_data"
    }
   ],
   "source": [
    "#Lets plot the coefficients for both the linear and ridge models.\n",
    "plt.figure(figsize = (6,6))\n",
    "plt.plot(dataset.feature_names,ridgeReg.coef_,alpha=1,linestyle='none',\n",
    "         marker='*',markersize=5,color='red',label=r'Ridge; $\\alpha = 0.1$',zorder=7)\n",
    "\n",
    "plt.plot(dataset.feature_names,LR.coef_,alpha=0.6,linestyle='none',\n",
    "         marker='o',markersize=7,color='green',label='Linear Regression')\n",
    "\n",
    "plt.plot(dataset.feature_names,lasso.coef_,alpha=0.8,linestyle='none',\n",
    "         marker='x',markersize=9,color='blue',label='Lasso Regression')\n",
    "\n",
    "plt.plot(dataset.feature_names,enet_model.coef_,alpha=0.9,linestyle='none',\n",
    "         marker='d',markersize=10,color='magenta',label='ElasticNet Regression')\n",
    "plt.xticks(rotation = 45 )\n",
    "plt.title('Comparing the coefficient values of LR, Lasso, Ridge, Enet models')\n",
    "plt.legend()\n",
    "plt.show()"
   ]
  },
  {
   "cell_type": "markdown",
   "id": "998a4e4d",
   "metadata": {},
   "source": [
    "# Using cross validation"
   ]
  },
  {
   "cell_type": "code",
   "execution_count": 13,
   "id": "310927ee",
   "metadata": {},
   "outputs": [],
   "source": [
    "from sklearn.linear_model import LassoCV,RidgeCV,ElasticNetCV"
   ]
  },
  {
   "cell_type": "markdown",
   "id": "403e2fec",
   "metadata": {},
   "source": [
    "We may need to try out different alpha values to find the optimal constraint value. For this case, we can use the cross-validation model in the sklearn package. This will try out different combinations of alpha values and then choose the best model.\n",
    "\n",
    "\n"
   ]
  },
  {
   "cell_type": "markdown",
   "id": "0e8c7b89",
   "metadata": {},
   "source": [
    " # Lasso Cross validation"
   ]
  },
  {
   "cell_type": "code",
   "execution_count": 14,
   "id": "42369eeb",
   "metadata": {},
   "outputs": [
    {
     "name": "stdout",
     "output_type": "stream",
     "text": [
      "tarining score:0.6088668691740277\n",
      "0.002\n"
     ]
    }
   ],
   "source": [
    "#Using the linear CV model\n",
    "from sklearn.linear_model import LassoCV,RidgeCV,ElasticNetCV\n",
    "#Lasso Cross validation\n",
    "lasso_cv = LassoCV(alphas = [0.0001, 0.0002,0.0009,0.001,0.002,0.003,0.0035,0.0003,0.01, 0.1, 1, 10],\n",
    "                   random_state=10).fit(X_train, y_train)\n",
    "#score\n",
    "print(f'tarining score:{lasso_cv.score(X_train, y_train)}')\n",
    "print(lasso_cv.alpha_)"
   ]
  },
  {
   "cell_type": "markdown",
   "id": "6787c991",
   "metadata": {},
   "source": [
    "# Ridge Cross validation"
   ]
  },
  {
   "cell_type": "code",
   "execution_count": 15,
   "id": "1f78b76c",
   "metadata": {},
   "outputs": [
    {
     "name": "stdout",
     "output_type": "stream",
     "text": [
      "The train score for ridge model is 0.6087460107958624\n",
      "100.0\n"
     ]
    }
   ],
   "source": [
    "#Using the linear CV model\n",
    "from sklearn.linear_model import RidgeCV\n",
    "#Ridge Cross validation\n",
    "ridge_cv = RidgeCV(alphas = [0.0001,0.002, 0.001,0.01,0.02, 0.1, 1, 10,10.5,11,12,15,17,19,50,100,150],\n",
    "                    ).fit(X_train, y_train)\n",
    "#score\n",
    "print(\"The train score for ridge model is {}\".format(ridge_cv.score(X_train, y_train)))\n",
    "print(ridge_cv.alpha_)"
   ]
  },
  {
   "cell_type": "code",
   "execution_count": 16,
   "id": "eb10a641",
   "metadata": {},
   "outputs": [
    {
     "name": "stdout",
     "output_type": "stream",
     "text": [
      "The train score for elasticnetCV model is 0.6088376784780601\n"
     ]
    },
    {
     "data": {
      "text/plain": [
       "0.003"
      ]
     },
     "execution_count": 16,
     "metadata": {},
     "output_type": "execute_result"
    }
   ],
   "source": [
    "#Using the ElasticNetCV CV model\n",
    "from sklearn.linear_model import ElasticNetCV\n",
    "\n",
    "#ElasticNetCV Cross validation\n",
    "ElasticNet_cv = ElasticNetCV(alphas = [0.0001, 0.001,0.002,0.0025,0.003,0.035,0.01, 0.1, 1, 10]).fit(X_train, y_train)\n",
    "\n",
    "#score\n",
    "print(\"The train score for elasticnetCV model is {}\".format(ElasticNet_cv.score(X_train, y_train)))\n",
    "ElasticNet_cv.alpha_"
   ]
  },
  {
   "cell_type": "code",
   "execution_count": 17,
   "id": "dccf633f",
   "metadata": {},
   "outputs": [
    {
     "data": {
      "text/plain": [
       "1.3862943611198906"
      ]
     },
     "execution_count": 17,
     "metadata": {},
     "output_type": "execute_result"
    }
   ],
   "source": [
    "np.log(4)"
   ]
  },
  {
   "cell_type": "code",
   "execution_count": 24,
   "id": "39c4fbe6",
   "metadata": {
    "collapsed": true
   },
   "outputs": [
    {
     "name": "stdout",
     "output_type": "stream",
     "text": [
      "[0.0001     0.00021544 0.00046416 0.001      0.00215443 0.00464159\n",
      " 0.01       0.02154435 0.04641589 0.1       ]\n"
     ]
    }
   ],
   "source": [
    "# generating the random values for alpha\n",
    "alpha = np.logspace(-4,-1,10)\n",
    "np.empty_like(alpha)\n",
    "print(alpha)"
   ]
  },
  {
   "cell_type": "code",
   "execution_count": 25,
   "id": "d0589674",
   "metadata": {
    "collapsed": true
   },
   "outputs": [
    {
     "name": "stdout",
     "output_type": "stream",
     "text": [
      "[0.60901531 0.60901395 0.60900767 0.60897848 0.608843   0.60821409\n",
      " 0.60529465 0.59836632 0.58788991 0.5488268 ]\n"
     ]
    }
   ],
   "source": [
    "# fitting a lasso regressor for evry alpha value\n",
    "alphas = np.logspace(-4, -1, 10)\n",
    "scores = np.empty_like(alphas)\n",
    "\n",
    "for i,a in enumerate(alphas):\n",
    "    lasso = Lasso()\n",
    "    lasso.set_params(alpha=a)\n",
    "    lasso.fit(X_train, y_train)\n",
    "    scores[i] = lasso.score(X_train, y_train)    \n",
    "print(scores)"
   ]
  },
  {
   "cell_type": "code",
   "execution_count": 27,
   "id": "ad4a5036",
   "metadata": {
    "collapsed": true
   },
   "outputs": [
    {
     "name": "stdout",
     "output_type": "stream",
     "text": [
      "0.03432308935225843\n"
     ]
    },
    {
     "data": {
      "image/png": "[encoded data removed]",
      "text/plain": [
       "<Figure size 640x480 with 1 Axes>"
      ]
     },
     "metadata": {},
     "output_type": "display_data"
    }
   ],
   "source": [
    "# comparing alpha values with scores.\n",
    "lassocv = LassoCV(random_state=0)\n",
    "lassocv.fit(X_train, y_train)\n",
    "lassocv_score = lassocv.score(X_train, y_train)\n",
    "lassocv_alpha = lassocv.alpha_\n",
    "print(lassocv_alpha)\n",
    "# print('CV', lassocv.coef_)\n",
    "plt.plot(alphas, scores, '-ko')\n",
    "plt.axhline(lassocv_score, color='b', ls='--')\n",
    "plt.axvline(lassocv_alpha, color='b', ls='--')\n",
    "plt.xlabel(r'$\\alpha$')\n",
    "plt.ylabel('Score')\n",
    "plt.xscale('log')\n",
    "sns.despine(offset=15)"
   ]
  },
  {
   "cell_type": "markdown",
   "id": "c71f21fe",
   "metadata": {},
   "source": [
    "# Elastic net regressor"
   ]
  },
  {
   "cell_type": "code",
   "execution_count": 30,
   "id": "76fe58b6",
   "metadata": {},
   "outputs": [],
   "source": [
    "from sklearn.linear_model import ElasticNet\n",
    "from sklearn.metrics import mean_squared_error,r2_score\n",
    "enet_model = ElasticNet().fit(X_train, y_train)"
   ]
  },
  {
   "cell_type": "code",
   "execution_count": 31,
   "id": "41bb3206",
   "metadata": {},
   "outputs": [
    {
     "name": "stdout",
     "output_type": "stream",
     "text": [
      "[ 2.54634058e-01  1.17146545e-02  0.00000000e+00 -0.00000000e+00\n",
      "  9.37880016e-06 -0.00000000e+00 -0.00000000e+00 -0.00000000e+00]\n",
      "0.7324904731109174\n"
     ]
    }
   ],
   "source": [
    "print(enet_model.coef_)\n",
    "print(enet_model.intercept_)      "
   ]
  },
  {
   "cell_type": "code",
   "execution_count": 32,
   "id": "99d16d34",
   "metadata": {},
   "outputs": [
    {
     "data": {
      "text/plain": [
       "0.8858041619249865"
      ]
     },
     "execution_count": 32,
     "metadata": {},
     "output_type": "execute_result"
    }
   ],
   "source": [
    "y_pred = enet_model.predict(X_test)\n",
    "mse = np.sqrt(mean_squared_error(y_test,y_pred))\n",
    "mse"
   ]
  },
  {
   "cell_type": "code",
   "execution_count": 28,
   "id": "48aaacee",
   "metadata": {
    "collapsed": true
   },
   "outputs": [
    {
     "ename": "NameError",
     "evalue": "name 'lr' is not defined",
     "output_type": "error",
     "traceback": [
      "\u001b[1;31m---------------------------------------------------------------------------\u001b[0m",
      "\u001b[1;31mNameError\u001b[0m                                 Traceback (most recent call last)",
      "Cell \u001b[1;32mIn[28], line 10\u001b[0m\n\u001b[0;32m      7\u001b[0m plt\u001b[38;5;241m.\u001b[39mplot(lasso_cv\u001b[38;5;241m.\u001b[39mcoef_,alpha\u001b[38;5;241m=\u001b[39m\u001b[38;5;241m0.5\u001b[39m,linestyle\u001b[38;5;241m=\u001b[39m\u001b[38;5;124m'\u001b[39m\u001b[38;5;124mnone\u001b[39m\u001b[38;5;124m'\u001b[39m,marker\u001b[38;5;241m=\u001b[39m\u001b[38;5;124m'\u001b[39m\u001b[38;5;124md\u001b[39m\u001b[38;5;124m'\u001b[39m,markersize\u001b[38;5;241m=\u001b[39m\u001b[38;5;241m6\u001b[39m,color\u001b[38;5;241m=\u001b[39m\u001b[38;5;124m'\u001b[39m\u001b[38;5;124mblue\u001b[39m\u001b[38;5;124m'\u001b[39m,label\u001b[38;5;241m=\u001b[39m\u001b[38;5;124mr\u001b[39m\u001b[38;5;124m'\u001b[39m\u001b[38;5;124mlasso; $\u001b[39m\u001b[38;5;124m\\\u001b[39m\u001b[38;5;124malpha = grid$\u001b[39m\u001b[38;5;124m'\u001b[39m)\n\u001b[0;32m      9\u001b[0m \u001b[38;5;66;03m#add plot for linear model\u001b[39;00m\n\u001b[1;32m---> 10\u001b[0m plt\u001b[38;5;241m.\u001b[39mplot(dataset\u001b[38;5;241m.\u001b[39mfeature_names,lr\u001b[38;5;241m.\u001b[39mcoef_,alpha\u001b[38;5;241m=\u001b[39m\u001b[38;5;241m0.4\u001b[39m,linestyle\u001b[38;5;241m=\u001b[39m\u001b[38;5;124m'\u001b[39m\u001b[38;5;124mnone\u001b[39m\u001b[38;5;124m'\u001b[39m,marker\u001b[38;5;241m=\u001b[39m\u001b[38;5;124m'\u001b[39m\u001b[38;5;124mo\u001b[39m\u001b[38;5;124m'\u001b[39m,markersize\u001b[38;5;241m=\u001b[39m\u001b[38;5;241m7\u001b[39m,color\u001b[38;5;241m=\u001b[39m\u001b[38;5;124m'\u001b[39m\u001b[38;5;124mgreen\u001b[39m\u001b[38;5;124m'\u001b[39m,label\u001b[38;5;241m=\u001b[39m\u001b[38;5;124m'\u001b[39m\u001b[38;5;124mLinear Regression\u001b[39m\u001b[38;5;124m'\u001b[39m)\n\u001b[0;32m     12\u001b[0m \u001b[38;5;66;03m#rotate axis\u001b[39;00m\n\u001b[0;32m     13\u001b[0m plt\u001b[38;5;241m.\u001b[39mxticks(rotation \u001b[38;5;241m=\u001b[39m \u001b[38;5;241m90\u001b[39m)\n",
      "\u001b[1;31mNameError\u001b[0m: name 'lr' is not defined"
     ]
    },
    {
     "data": {
      "image/png": "[encoded data removed]",
      "text/plain": [
       "<Figure size 600x600 with 1 Axes>"
      ]
     },
     "metadata": {},
     "output_type": "display_data"
    }
   ],
   "source": [
    "#plot size\n",
    "plt.figure(figsize = (6,6))\n",
    "#add plot for ridge regression\n",
    "plt.plot(dataset.feature_names,ridgeReg.coef_,alpha=0.7,linestyle='none',marker='*',markersize=5,color='red',label=r'Ridge; $\\alpha = 10$',zorder=7)\n",
    "\n",
    "#add plot for lasso regression\n",
    "plt.plot(lasso_cv.coef_,alpha=0.5,linestyle='none',marker='d',markersize=6,color='blue',label=r'lasso; $\\alpha = grid$')\n",
    "\n",
    "#add plot for linear model\n",
    "plt.plot(dataset.feature_names,lr.coef_,alpha=0.4,linestyle='none',marker='o',markersize=7,color='green',label='Linear Regression')\n",
    "\n",
    "#rotate axis\n",
    "plt.xticks(rotation = 90)\n",
    "plt.legend()\n",
    "plt.title(\"Comparison plot of Ridge, Lasso and Linear regression model\")\n",
    "plt.show()\n"
   ]
  },
  {
   "cell_type": "markdown",
   "id": "82e4cd86",
   "metadata": {},
   "source": [
    "# prediction on all models."
   ]
  },
  {
   "cell_type": "code",
   "execution_count": 39,
   "id": "7565327d",
   "metadata": {
    "collapsed": true
   },
   "outputs": [
    {
     "name": "stdout",
     "output_type": "stream",
     "text": [
      "testing usinf LR:0.5945787000665598\n",
      "testing usinf lasso:0.5236377548825866\n",
      "testing usinf ridge:0.5945776339672635\n",
      "testing usinf Eleatic net:0.4099079908643022\n"
     ]
    }
   ],
   "source": [
    "from sklearn.metrics import mean_squared_error,r2_score\n",
    "## prediction for lasso\n",
    "y_pred = LR.predict(X_test)\n",
    "print(f'testing using LR:{r2_score(y_test,y_pred)}')\n",
    "\n",
    "y_pred_0 = lasso.predict(X_test)\n",
    "print(f'testing using lasso:{r2_score(y_test,y_pred_0)}')\n",
    "\n",
    "## prediction for Ridge\n",
    "y_pred_2 = ridgeReg.predict(X_test)\n",
    "print(f'testing using ridge:{r2_score(y_test,y_pred_2)}')\n",
    "\n",
    "## prediction for Elastic\n",
    "y_pred_1 = enet_model.predict(X_test)\n",
    "print(f'testing using Elastic net:{r2_score(y_test,y_pred_1)}')"
   ]
  },
  {
   "cell_type": "code",
   "execution_count": null,
   "id": "eba61281",
   "metadata": {},
   "outputs": [],
   "source": [
    "'if the R2 of a model is 0.50, then approximately half of the observed variation can be explained by the model’s inputs.'"
   ]
  },
  {
   "cell_type": "markdown",
   "id": "76270460",
   "metadata": {},
   "source": [
    "# Model Tuning\n",
    "The operations using the ElasticNetCV method to find the optimum alpha value."
   ]
  },
  {
   "cell_type": "code",
   "execution_count": 30,
   "id": "d649fded",
   "metadata": {
    "collapsed": true
   },
   "outputs": [
    {
     "name": "stdout",
     "output_type": "stream",
     "text": [
      "{'fit_time': array([0.10937953, 0.11414194, 0.07252145, 0.07311344, 0.07881069]), 'score_time': array([0.00199986, 0.00200486, 0.00110126, 0.0018971 , 0.00189877]), 'estimator': [Pipeline(steps=[('standardscaler', StandardScaler()),\n",
      "                ('ridgecv',\n",
      "                 RidgeCV(alphas=array([1.00000000e-03, 1.37382380e-03, 1.88739182e-03, 2.59294380e-03,\n",
      "       3.56224789e-03, 4.89390092e-03, 6.72335754e-03, 9.23670857e-03,\n",
      "       1.26896100e-02, 1.74332882e-02, 2.39502662e-02, 3.29034456e-02,\n",
      "       4.52035366e-02, 6.21016942e-02, 8.53167852e-02, 1.17210230e-01,\n",
      "       1.61026203e-01, 2.21221629e-01, 3.03919538e-01, 4.17531894e-01,\n",
      "       5.73615251e-01, 7.88046282e-01, 1.08263673e+00, 1.48735211e+00,\n",
      "       2.04335972e+00, 2.80721620e+00, 3.85662042e+00, 5.29831691e+00,\n",
      "       7.27895384e+00, 1.00000000e+01])))]), Pipeline(steps=[('standardscaler', StandardScaler()),\n",
      "                ('ridgecv',\n",
      "                 RidgeCV(alphas=array([1.00000000e-03, 1.37382380e-03, 1.88739182e-03, 2.59294380e-03,\n",
      "       3.56224789e-03, 4.89390092e-03, 6.72335754e-03, 9.23670857e-03,\n",
      "       1.26896100e-02, 1.74332882e-02, 2.39502662e-02, 3.29034456e-02,\n",
      "       4.52035366e-02, 6.21016942e-02, 8.53167852e-02, 1.17210230e-01,\n",
      "       1.61026203e-01, 2.21221629e-01, 3.03919538e-01, 4.17531894e-01,\n",
      "       5.73615251e-01, 7.88046282e-01, 1.08263673e+00, 1.48735211e+00,\n",
      "       2.04335972e+00, 2.80721620e+00, 3.85662042e+00, 5.29831691e+00,\n",
      "       7.27895384e+00, 1.00000000e+01])))]), Pipeline(steps=[('standardscaler', StandardScaler()),\n",
      "                ('ridgecv',\n",
      "                 RidgeCV(alphas=array([1.00000000e-03, 1.37382380e-03, 1.88739182e-03, 2.59294380e-03,\n",
      "       3.56224789e-03, 4.89390092e-03, 6.72335754e-03, 9.23670857e-03,\n",
      "       1.26896100e-02, 1.74332882e-02, 2.39502662e-02, 3.29034456e-02,\n",
      "       4.52035366e-02, 6.21016942e-02, 8.53167852e-02, 1.17210230e-01,\n",
      "       1.61026203e-01, 2.21221629e-01, 3.03919538e-01, 4.17531894e-01,\n",
      "       5.73615251e-01, 7.88046282e-01, 1.08263673e+00, 1.48735211e+00,\n",
      "       2.04335972e+00, 2.80721620e+00, 3.85662042e+00, 5.29831691e+00,\n",
      "       7.27895384e+00, 1.00000000e+01])))]), Pipeline(steps=[('standardscaler', StandardScaler()),\n",
      "                ('ridgecv',\n",
      "                 RidgeCV(alphas=array([1.00000000e-03, 1.37382380e-03, 1.88739182e-03, 2.59294380e-03,\n",
      "       3.56224789e-03, 4.89390092e-03, 6.72335754e-03, 9.23670857e-03,\n",
      "       1.26896100e-02, 1.74332882e-02, 2.39502662e-02, 3.29034456e-02,\n",
      "       4.52035366e-02, 6.21016942e-02, 8.53167852e-02, 1.17210230e-01,\n",
      "       1.61026203e-01, 2.21221629e-01, 3.03919538e-01, 4.17531894e-01,\n",
      "       5.73615251e-01, 7.88046282e-01, 1.08263673e+00, 1.48735211e+00,\n",
      "       2.04335972e+00, 2.80721620e+00, 3.85662042e+00, 5.29831691e+00,\n",
      "       7.27895384e+00, 1.00000000e+01])))]), Pipeline(steps=[('standardscaler', StandardScaler()),\n",
      "                ('ridgecv',\n",
      "                 RidgeCV(alphas=array([1.00000000e-03, 1.37382380e-03, 1.88739182e-03, 2.59294380e-03,\n",
      "       3.56224789e-03, 4.89390092e-03, 6.72335754e-03, 9.23670857e-03,\n",
      "       1.26896100e-02, 1.74332882e-02, 2.39502662e-02, 3.29034456e-02,\n",
      "       4.52035366e-02, 6.21016942e-02, 8.53167852e-02, 1.17210230e-01,\n",
      "       1.61026203e-01, 2.21221629e-01, 3.03919538e-01, 4.17531894e-01,\n",
      "       5.73615251e-01, 7.88046282e-01, 1.08263673e+00, 1.48735211e+00,\n",
      "       2.04335972e+00, 2.80721620e+00, 3.85662042e+00, 5.29831691e+00,\n",
      "       7.27895384e+00, 1.00000000e+01])))])], 'test_score': array([0.63949534, 0.60571284, 0.61115815, 0.56191319, 0.60883357])}\n",
      "[0.63949534 0.60571284 0.61115815 0.56191319 0.60883357]\n",
      "R2 score: 0.605 ± 0.025\n"
     ]
    }
   ],
   "source": [
    "from sklearn.pipeline import make_pipeline\n",
    "from sklearn.model_selection import cross_validate\n",
    "alphas = np.logspace(-3, 1, num=30)\n",
    "model = make_pipeline(StandardScaler(), RidgeCV(alphas=alphas))\n",
    "cv_results = cross_validate(model,X_train,y_train, return_estimator=True, n_jobs=2) \n",
    "print(cv_results)\n"
   ]
  },
  {
   "cell_type": "code",
   "execution_count": 32,
   "id": "7dc93354",
   "metadata": {},
   "outputs": [
    {
     "name": "stdout",
     "output_type": "stream",
     "text": [
      "[0.63949534 0.60571284 0.61115815 0.56191319 0.60883357]\n",
      "R2 score: 0.605 ± 0.025\n"
     ]
    }
   ],
   "source": [
    "score = cv_results[\"test_score\"]\n",
    "print(score)\n",
    "print(f\"R2 score: {score.mean():.3f} ± {score.std():.3f}\")"
   ]
  },
  {
   "cell_type": "code",
   "execution_count": 34,
   "id": "28b36770",
   "metadata": {
    "collapsed": true
   },
   "outputs": [
    {
     "name": "stdout",
     "output_type": "stream",
     "text": [
      "{'fit_time': array([0.17571187, 0.16764641, 0.14086819, 0.16501927, 0.14755058]), 'score_time': array([0.00104594, 0.00097847, 0.00100589, 0.0010004 , 0.00101781]), 'estimator': [Pipeline(steps=[('standardscaler', StandardScaler()),\n",
      "                ('elasticnetcv',\n",
      "                 ElasticNetCV(alphas=array([1.00000000e-03, 1.37382380e-03, 1.88739182e-03, 2.59294380e-03,\n",
      "       3.56224789e-03, 4.89390092e-03, 6.72335754e-03, 9.23670857e-03,\n",
      "       1.26896100e-02, 1.74332882e-02, 2.39502662e-02, 3.29034456e-02,\n",
      "       4.52035366e-02, 6.21016942e-02, 8.53167852e-02, 1.17210230e-01,\n",
      "       1.61026203e-01, 2.21221629e-01, 3.03919538e-01, 4.17531894e-01,\n",
      "       5.73615251e-01, 7.88046282e-01, 1.08263673e+00, 1.48735211e+00,\n",
      "       2.04335972e+00, 2.80721620e+00, 3.85662042e+00, 5.29831691e+00,\n",
      "       7.27895384e+00, 1.00000000e+01])))]), Pipeline(steps=[('standardscaler', StandardScaler()),\n",
      "                ('elasticnetcv',\n",
      "                 ElasticNetCV(alphas=array([1.00000000e-03, 1.37382380e-03, 1.88739182e-03, 2.59294380e-03,\n",
      "       3.56224789e-03, 4.89390092e-03, 6.72335754e-03, 9.23670857e-03,\n",
      "       1.26896100e-02, 1.74332882e-02, 2.39502662e-02, 3.29034456e-02,\n",
      "       4.52035366e-02, 6.21016942e-02, 8.53167852e-02, 1.17210230e-01,\n",
      "       1.61026203e-01, 2.21221629e-01, 3.03919538e-01, 4.17531894e-01,\n",
      "       5.73615251e-01, 7.88046282e-01, 1.08263673e+00, 1.48735211e+00,\n",
      "       2.04335972e+00, 2.80721620e+00, 3.85662042e+00, 5.29831691e+00,\n",
      "       7.27895384e+00, 1.00000000e+01])))]), Pipeline(steps=[('standardscaler', StandardScaler()),\n",
      "                ('elasticnetcv',\n",
      "                 ElasticNetCV(alphas=array([1.00000000e-03, 1.37382380e-03, 1.88739182e-03, 2.59294380e-03,\n",
      "       3.56224789e-03, 4.89390092e-03, 6.72335754e-03, 9.23670857e-03,\n",
      "       1.26896100e-02, 1.74332882e-02, 2.39502662e-02, 3.29034456e-02,\n",
      "       4.52035366e-02, 6.21016942e-02, 8.53167852e-02, 1.17210230e-01,\n",
      "       1.61026203e-01, 2.21221629e-01, 3.03919538e-01, 4.17531894e-01,\n",
      "       5.73615251e-01, 7.88046282e-01, 1.08263673e+00, 1.48735211e+00,\n",
      "       2.04335972e+00, 2.80721620e+00, 3.85662042e+00, 5.29831691e+00,\n",
      "       7.27895384e+00, 1.00000000e+01])))]), Pipeline(steps=[('standardscaler', StandardScaler()),\n",
      "                ('elasticnetcv',\n",
      "                 ElasticNetCV(alphas=array([1.00000000e-03, 1.37382380e-03, 1.88739182e-03, 2.59294380e-03,\n",
      "       3.56224789e-03, 4.89390092e-03, 6.72335754e-03, 9.23670857e-03,\n",
      "       1.26896100e-02, 1.74332882e-02, 2.39502662e-02, 3.29034456e-02,\n",
      "       4.52035366e-02, 6.21016942e-02, 8.53167852e-02, 1.17210230e-01,\n",
      "       1.61026203e-01, 2.21221629e-01, 3.03919538e-01, 4.17531894e-01,\n",
      "       5.73615251e-01, 7.88046282e-01, 1.08263673e+00, 1.48735211e+00,\n",
      "       2.04335972e+00, 2.80721620e+00, 3.85662042e+00, 5.29831691e+00,\n",
      "       7.27895384e+00, 1.00000000e+01])))]), Pipeline(steps=[('standardscaler', StandardScaler()),\n",
      "                ('elasticnetcv',\n",
      "                 ElasticNetCV(alphas=array([1.00000000e-03, 1.37382380e-03, 1.88739182e-03, 2.59294380e-03,\n",
      "       3.56224789e-03, 4.89390092e-03, 6.72335754e-03, 9.23670857e-03,\n",
      "       1.26896100e-02, 1.74332882e-02, 2.39502662e-02, 3.29034456e-02,\n",
      "       4.52035366e-02, 6.21016942e-02, 8.53167852e-02, 1.17210230e-01,\n",
      "       1.61026203e-01, 2.21221629e-01, 3.03919538e-01, 4.17531894e-01,\n",
      "       5.73615251e-01, 7.88046282e-01, 1.08263673e+00, 1.48735211e+00,\n",
      "       2.04335972e+00, 2.80721620e+00, 3.85662042e+00, 5.29831691e+00,\n",
      "       7.27895384e+00, 1.00000000e+01])))])], 'test_score': array([0.63743739, 0.60518845, 0.61003564, 0.56258959, 0.60863722])}\n"
     ]
    }
   ],
   "source": [
    "from sklearn.preprocessing import Normalizer\n",
    "alphas = np.logspace(-3, 1, num=30)\n",
    "model = make_pipeline(StandardScaler(), ElasticNetCV(alphas=alphas))\n",
    "cv_results = cross_validate(model,X_train,y_train, return_estimator=True, n_jobs=2) \n",
    "print(cv_results)"
   ]
  },
  {
   "cell_type": "code",
   "execution_count": null,
   "id": "23caa9a1",
   "metadata": {},
   "outputs": [],
   "source": []
  },
  {
   "cell_type": "code",
   "execution_count": null,
   "id": "035cb573",
   "metadata": {},
   "outputs": [],
   "source": []
  },
  {
   "cell_type": "code",
   "execution_count": null,
   "id": "f02474b0",
   "metadata": {},
   "outputs": [],
   "source": []
  },
  {
   "cell_type": "code",
   "execution_count": null,
   "id": "cc89bd6d",
   "metadata": {},
   "outputs": [],
   "source": [
    "from sklearn.linear_model import ElasticNetCV\n",
    "\n",
    "enet_cv_model = ElasticNetCV(cv = 10).fit(X_train,y_train)\n",
    "\n",
    "# If we don't give the lambdas, what's the alpha?\n",
    "\n",
    "enet_cv_model.alpha_"
   ]
  },
  {
   "cell_type": "markdown",
   "id": "edc88ae5",
   "metadata": {},
   "source": [
    "Accordingly, we find the alpha value as 0.06772.\n",
    "\n",
    "Afterward, we can find the constant of the model established with ElasticNetCV as follows."
   ]
  },
  {
   "cell_type": "code",
   "execution_count": null,
   "id": "7a4fa043",
   "metadata": {},
   "outputs": [],
   "source": [
    "enet_cv_model.intercept_"
   ]
  },
  {
   "cell_type": "code",
   "execution_count": null,
   "id": "f2d86a71",
   "metadata": {},
   "outputs": [],
   "source": [
    "enet_cv_model.coef_"
   ]
  },
  {
   "cell_type": "code",
   "execution_count": null,
   "id": "f7bdd206",
   "metadata": {},
   "outputs": [],
   "source": [
    "# Let's create the final model according to optimum alpha.\n",
    "\n",
    "enet_tuned = ElasticNet(alpha = enet_cv_model.alpha_).fit(X_train,y_train)\n",
    "\n",
    "# Let's now calculate the error for the test set using this final model.\n",
    "\n",
    "y_pred_1 = enet_tuned.predict(X_test)\n",
    "r2_score(y_test,y_pred_1)\n",
    "# np.sqrt(mean_squared_error(y_test,y_pred_1))"
   ]
  },
  {
   "cell_type": "code",
   "execution_count": null,
   "id": "ec12e753",
   "metadata": {},
   "outputs": [],
   "source": [
    "\n",
    "from sklearn.metrics import r2_score\n",
    "## prediction for lasso\n",
    "y_pred_0 = lasso.predict(X_test)\n",
    "print(r2_score(y_test,y_pred_0))\n",
    "\n",
    "## prediction for Ridge\n",
    "y_pred_2 = ridgeReg.predict(X_test)\n",
    "print(r2_score(y_test,y_pred_2))\n",
    "\n",
    "## prediction for Elastic\n",
    "y_pred_1 = enet_model.predict(X_test)\n",
    "print(r2_score(y_test,y_pred_1))\n",
    "\n",
    "## prediction for lr\n",
    "y_pred_3 = lr.predict(X_test)\n",
    "print(r2_score(y_test,y_pred_3))"
   ]
  },
  {
   "cell_type": "code",
   "execution_count": null,
   "id": "cc4b3306",
   "metadata": {},
   "outputs": [],
   "source": []
  },
  {
   "cell_type": "code",
   "execution_count": null,
   "id": "1669f73b",
   "metadata": {},
   "outputs": [],
   "source": [
    "!pip install ucimlrepo"
   ]
  },
  {
   "cell_type": "code",
   "execution_count": 37,
   "id": "7805a1aa",
   "metadata": {},
   "outputs": [],
   "source": [
    "from ucimlrepo import fetch_ucirepo \n",
    "# fetch dataset \n",
    "wine_quality = fetch_ucirepo(id=186) "
   ]
  },
  {
   "cell_type": "code",
   "execution_count": 40,
   "id": "dc2e82fe",
   "metadata": {
    "collapsed": true
   },
   "outputs": [
    {
     "name": "stdout",
     "output_type": "stream",
     "text": [
      "      quality\n",
      "0           5\n",
      "1           5\n",
      "2           5\n",
      "3           6\n",
      "4           5\n",
      "...       ...\n",
      "6492        6\n",
      "6493        5\n",
      "6494        6\n",
      "6495        7\n",
      "6496        6\n",
      "\n",
      "[6497 rows x 1 columns]\n"
     ]
    }
   ],
   "source": [
    "# data (as pandas dataframes) \n",
    "X = wine_quality.data.features \n",
    "y = wine_quality.data.targets \n",
    "print(y)  "
   ]
  },
  {
   "cell_type": "code",
   "execution_count": 42,
   "id": "929b45e0",
   "metadata": {
    "collapsed": true
   },
   "outputs": [
    {
     "name": "stdout",
     "output_type": "stream",
     "text": [
      "                    name     role         type demographic  \\\n",
      "0          fixed_acidity  Feature   Continuous        None   \n",
      "1       volatile_acidity  Feature   Continuous        None   \n",
      "2            citric_acid  Feature   Continuous        None   \n",
      "3         residual_sugar  Feature   Continuous        None   \n",
      "4              chlorides  Feature   Continuous        None   \n",
      "5    free_sulfur_dioxide  Feature   Continuous        None   \n",
      "6   total_sulfur_dioxide  Feature   Continuous        None   \n",
      "7                density  Feature   Continuous        None   \n",
      "8                     pH  Feature   Continuous        None   \n",
      "9              sulphates  Feature   Continuous        None   \n",
      "10               alcohol  Feature   Continuous        None   \n",
      "11               quality   Target      Integer        None   \n",
      "12                 color    Other  Categorical        None   \n",
      "\n",
      "               description units missing_values  \n",
      "0                     None  None             no  \n",
      "1                     None  None             no  \n",
      "2                     None  None             no  \n",
      "3                     None  None             no  \n",
      "4                     None  None             no  \n",
      "5                     None  None             no  \n",
      "6                     None  None             no  \n",
      "7                     None  None             no  \n",
      "8                     None  None             no  \n",
      "9                     None  None             no  \n",
      "10                    None  None             no  \n",
      "11  score between 0 and 10  None             no  \n",
      "12            red or white  None             no  \n"
     ]
    }
   ],
   "source": [
    "# metadata \n",
    "print(wine_quality.metadata) \n",
    "# variable information \n",
    "print(wine_quality.variables)"
   ]
  },
  {
   "cell_type": "code",
   "execution_count": null,
   "id": "0203df6d",
   "metadata": {},
   "outputs": [],
   "source": []
  },
  {
   "cell_type": "code",
   "execution_count": 53,
   "id": "b7916166",
   "metadata": {},
   "outputs": [
    {
     "name": "stdout",
     "output_type": "stream",
     "text": [
      "{'uci_id': 53, 'name': 'Iris', 'repository_url': 'https://archive.ics.uci.edu/dataset/53/iris', 'data_url': 'https://archive.ics.uci.edu/static/public/53/data.csv', 'abstract': 'A small classic dataset from Fisher, 1936. One of the earliest known datasets used for evaluating classification methods.\\n', 'area': 'Biology', 'tasks': ['Classification'], 'characteristics': ['Tabular'], 'num_instances': 150, 'num_features': 4, 'feature_types': ['Real'], 'demographics': [], 'target_col': ['class'], 'index_col': None, 'has_missing_values': 'no', 'missing_values_symbol': None, 'year_of_dataset_creation': 1936, 'last_updated': 'Tue Sep 12 2023', 'dataset_doi': '10.24432/C56C76', 'creators': ['R. A. Fisher'], 'intro_paper': {'title': 'The Iris data set: In search of the source of virginica', 'authors': 'A. Unwin, K. Kleinman', 'published_in': 'Significance, 2021', 'year': 2021, 'url': 'https://www.semanticscholar.org/paper/4599862ea877863669a6a8e63a3c707a787d5d7e', 'doi': '1740-9713.01589'}, 'additional_info': {'summary': 'This is one of the earliest datasets used in the literature on classification methods and widely used in statistics and machine learning.  The data set contains 3 classes of 50 instances each, where each class refers to a type of iris plant.  One class is linearly separable from the other 2; the latter are not linearly separable from each other.\\n\\nPredicted attribute: class of iris plant.\\n\\nThis is an exceedingly simple domain.\\n\\nThis data differs from the data presented in Fishers article (identified by Steve Chadwick,  spchadwick@espeedaz.net ).  The 35th sample should be: 4.9,3.1,1.5,0.2,\"Iris-setosa\" where the error is in the fourth feature. The 38th sample: 4.9,3.6,1.4,0.1,\"Iris-setosa\" where the errors are in the second and third features.  ', 'purpose': 'N/A', 'funded_by': None, 'instances_represent': 'Each instance is a plant', 'recommended_data_splits': None, 'sensitive_data': None, 'preprocessing_description': None, 'variable_info': None, 'citation': None}}\n"
     ]
    }
   ],
   "source": [
    "from ucimlrepo import fetch_ucirepo\n",
    "# fetch dataset \n",
    "iris = fetch_ucirepo(id=53) \n",
    "# data (as pandas dataframes) \n",
    "X = iris.data.features \n",
    "y = iris.data.targets \n",
    "# metadata \n",
    "print(iris.metadata) \n",
    "# variable information \n",
    "# print(X)\n",
    "# print(y)\n"
   ]
  },
  {
   "cell_type": "code",
   "execution_count": null,
   "id": "8f14f90f",
   "metadata": {},
   "outputs": [],
   "source": []
  },
  {
   "cell_type": "code",
   "execution_count": null,
   "id": "8f5699a8",
   "metadata": {},
   "outputs": [],
   "source": [
    "from ucimlrepo import fetch_ucirepo \n",
    "  \n",
    "# fetch dataset \n",
    "breast_cancer = fetch_ucirepo(id=15) \n",
    "  \n",
    "# data (as pandas dataframes) \n",
    "X = breast_cancer.data.features \n",
    "y = breast_cancer.data.targets \n"
   ]
  },
  {
   "cell_type": "code",
   "execution_count": null,
   "id": "03e6078c",
   "metadata": {},
   "outputs": [],
   "source": [
    "X = X.fillna(method='bfill')\n",
    "# X.isnull().sum()"
   ]
  },
  {
   "cell_type": "code",
   "execution_count": null,
   "id": "c98600d8",
   "metadata": {},
   "outputs": [],
   "source": [
    "X.info()"
   ]
  },
  {
   "cell_type": "code",
   "execution_count": 2,
   "id": "8fd4ecd6",
   "metadata": {},
   "outputs": [],
   "source": [
    "import pandas as pd\n",
    "import numpy as np\n",
    "import seaborn as sns\n",
    "import matplotlib.pyplot as plt\n",
    "from sklearn.model_selection import train_test_split \n",
    "from sklearn.linear_model import LinearRegression, Ridge, Lasso\n",
    "from sklearn.preprocessing import StandardScaler\n",
    "from sklearn.datasets import fetch_california_housing\n",
    "import sklearn.cross_decomposition as cv\n",
    "import sklearn"
   ]
  },
  {
   "cell_type": "code",
   "execution_count": 1,
   "id": "8dd09e05",
   "metadata": {
    "scrolled": true
   },
   "outputs": [],
   "source": [
    "from ucimlrepo import fetch_ucirepo \n",
    "  \n",
    "# fetch dataset \n",
    "automobile = fetch_ucirepo(id=10) \n",
    "  \n",
    "# data (as pandas dataframes) \n",
    "X = automobile.data.features \n",
    "y = automobile.data.targets \n",
    "  \n",
    "# # metadata \n",
    "# print(automobile.metadata) \n",
    "  \n",
    "# # variable information \n",
    "# print(automobile.variables) "
   ]
  },
  {
   "cell_type": "code",
   "execution_count": null,
   "id": "48615d5f",
   "metadata": {},
   "outputs": [],
   "source": [
    "print(X['engine-location'].value_counts()  )     \n",
    "print(X['drive-wheels'].value_counts() )         \n",
    "print(X['body-style'].value_counts())"
   ]
  },
  {
   "cell_type": "code",
   "execution_count": 4,
   "id": "5fbe45f6",
   "metadata": {
    "collapsed": true
   },
   "outputs": [
    {
     "data": {
      "text/plain": [
       "fuel-system         8\n",
       "engine-type         7\n",
       "engine-location     2\n",
       "drive-wheels        3\n",
       "body-style          5\n",
       "aspiration          2\n",
       "fuel-type           2\n",
       "make               22\n",
       "dtype: int64"
      ]
     },
     "execution_count": 4,
     "metadata": {},
     "output_type": "execute_result"
    }
   ],
   "source": [
    "# choosing a particular dtype\n",
    "X.select_dtypes('object').nunique()"
   ]
  },
  {
   "cell_type": "code",
   "execution_count": 7,
   "id": "8a91ab34",
   "metadata": {
    "collapsed": true
   },
   "outputs": [
    {
     "data": {
      "text/plain": [
       "fuel-system\n",
       "5    94\n",
       "1    66\n",
       "3    20\n",
       "0    11\n",
       "6     9\n",
       "2     3\n",
       "4     1\n",
       "7     1\n",
       "Name: count, dtype: int64"
      ]
     },
     "execution_count": 7,
     "metadata": {},
     "output_type": "execute_result"
    }
   ],
   "source": [
    "X['fuel-system'].value_counts()"
   ]
  },
  {
   "cell_type": "code",
   "execution_count": 6,
   "id": "96441cf0",
   "metadata": {
    "collapsed": true
   },
   "outputs": [
    {
     "name": "stderr",
     "output_type": "stream",
     "text": [
      "C:\\Users\\excel\\AppData\\Local\\Temp\\ipykernel_49036\\1461418535.py:1: SettingWithCopyWarning: \n",
      "A value is trying to be set on a copy of a slice from a DataFrame.\n",
      "Try using .loc[row_indexer,col_indexer] = value instead\n",
      "\n",
      "See the caveats in the documentation: https://pandas.pydata.org/pandas-docs/stable/user_guide/indexing.html#returning-a-view-versus-a-copy\n",
      "  X['fuel-system']=X['fuel-system'].astype('category').cat.codes\n"
     ]
    }
   ],
   "source": [
    "# converting catgorical to numerical data.\n",
    "X['fuel-system']=X['fuel-system'].astype('category').cat.codes"
   ]
  },
  {
   "cell_type": "code",
   "execution_count": 8,
   "id": "adf92adc",
   "metadata": {
    "collapsed": true
   },
   "outputs": [
    {
     "name": "stderr",
     "output_type": "stream",
     "text": [
      "C:\\Users\\excel\\AppData\\Local\\Temp\\ipykernel_49036\\3005234168.py:2: SettingWithCopyWarning: \n",
      "A value is trying to be set on a copy of a slice from a DataFrame.\n",
      "Try using .loc[row_indexer,col_indexer] = value instead\n",
      "\n",
      "See the caveats in the documentation: https://pandas.pydata.org/pandas-docs/stable/user_guide/indexing.html#returning-a-view-versus-a-copy\n",
      "  X['engine-type']=X['engine-type'].astype('category').cat.codes\n",
      "C:\\Users\\excel\\AppData\\Local\\Temp\\ipykernel_49036\\3005234168.py:3: SettingWithCopyWarning: \n",
      "A value is trying to be set on a copy of a slice from a DataFrame.\n",
      "Try using .loc[row_indexer,col_indexer] = value instead\n",
      "\n",
      "See the caveats in the documentation: https://pandas.pydata.org/pandas-docs/stable/user_guide/indexing.html#returning-a-view-versus-a-copy\n",
      "  X['engine-location']=X['engine-location'].astype('category').cat.codes\n",
      "C:\\Users\\excel\\AppData\\Local\\Temp\\ipykernel_49036\\3005234168.py:4: SettingWithCopyWarning: \n",
      "A value is trying to be set on a copy of a slice from a DataFrame.\n",
      "Try using .loc[row_indexer,col_indexer] = value instead\n",
      "\n",
      "See the caveats in the documentation: https://pandas.pydata.org/pandas-docs/stable/user_guide/indexing.html#returning-a-view-versus-a-copy\n",
      "  X['drive-wheels']=X['drive-wheels'].astype('category').cat.codes\n",
      "C:\\Users\\excel\\AppData\\Local\\Temp\\ipykernel_49036\\3005234168.py:5: SettingWithCopyWarning: \n",
      "A value is trying to be set on a copy of a slice from a DataFrame.\n",
      "Try using .loc[row_indexer,col_indexer] = value instead\n",
      "\n",
      "See the caveats in the documentation: https://pandas.pydata.org/pandas-docs/stable/user_guide/indexing.html#returning-a-view-versus-a-copy\n",
      "  X['aspiration']=X['aspiration'].astype('category').cat.codes\n",
      "C:\\Users\\excel\\AppData\\Local\\Temp\\ipykernel_49036\\3005234168.py:6: SettingWithCopyWarning: \n",
      "A value is trying to be set on a copy of a slice from a DataFrame.\n",
      "Try using .loc[row_indexer,col_indexer] = value instead\n",
      "\n",
      "See the caveats in the documentation: https://pandas.pydata.org/pandas-docs/stable/user_guide/indexing.html#returning-a-view-versus-a-copy\n",
      "  X['fuel-type']=X['fuel-type'].astype('category').cat.codes\n",
      "C:\\Users\\excel\\AppData\\Local\\Temp\\ipykernel_49036\\3005234168.py:7: SettingWithCopyWarning: \n",
      "A value is trying to be set on a copy of a slice from a DataFrame.\n",
      "Try using .loc[row_indexer,col_indexer] = value instead\n",
      "\n",
      "See the caveats in the documentation: https://pandas.pydata.org/pandas-docs/stable/user_guide/indexing.html#returning-a-view-versus-a-copy\n",
      "  X['make']=X['make'].astype('category').cat.codes\n",
      "C:\\Users\\excel\\AppData\\Local\\Temp\\ipykernel_49036\\3005234168.py:8: SettingWithCopyWarning: \n",
      "A value is trying to be set on a copy of a slice from a DataFrame.\n",
      "Try using .loc[row_indexer,col_indexer] = value instead\n",
      "\n",
      "See the caveats in the documentation: https://pandas.pydata.org/pandas-docs/stable/user_guide/indexing.html#returning-a-view-versus-a-copy\n",
      "  X['body-style'] = X['body-style'].astype('category').cat.codes\n"
     ]
    }
   ],
   "source": [
    "# X['fuel-system']=X['fuel-system'].astype('category').cat.codes\n",
    "X['engine-type']=X['engine-type'].astype('category').cat.codes\n",
    "X['engine-location']=X['engine-location'].astype('category').cat.codes\n",
    "X['drive-wheels']=X['drive-wheels'].astype('category').cat.codes\n",
    "X['aspiration']=X['aspiration'].astype('category').cat.codes\n",
    "X['fuel-type']=X['fuel-type'].astype('category').cat.codes\n",
    "X['make']=X['make'].astype('category').cat.codes\n",
    "X['body-style'] = X['body-style'].astype('category').cat.codes"
   ]
  },
  {
   "cell_type": "code",
   "execution_count": 10,
   "id": "fb63a715",
   "metadata": {
    "collapsed": true
   },
   "outputs": [
    {
     "data": {
      "text/plain": [
       "price                float64\n",
       "highway-mpg            int64\n",
       "city-mpg               int64\n",
       "peak-rpm             float64\n",
       "horsepower           float64\n",
       "compression-ratio    float64\n",
       "stroke               float64\n",
       "bore                 float64\n",
       "fuel-system             int8\n",
       "engine-size            int64\n",
       "num-of-cylinders       int64\n",
       "engine-type             int8\n",
       "curb-weight            int64\n",
       "height               float64\n",
       "width                float64\n",
       "length               float64\n",
       "wheel-base           float64\n",
       "engine-location         int8\n",
       "drive-wheels            int8\n",
       "body-style              int8\n",
       "num-of-doors         float64\n",
       "aspiration              int8\n",
       "fuel-type               int8\n",
       "make                    int8\n",
       "normalized-losses    float64\n",
       "dtype: object"
      ]
     },
     "execution_count": 10,
     "metadata": {},
     "output_type": "execute_result"
    }
   ],
   "source": [
    "X.dtypes"
   ]
  },
  {
   "cell_type": "code",
   "execution_count": null,
   "id": "5977b044",
   "metadata": {},
   "outputs": [],
   "source": [
    "# filling a missing values\n",
    "price                 4\n",
    "peak-rpm              2\n",
    "horsepower            2\n",
    "stroke                4\n",
    "bore                  4\n",
    "num-of-doors          2\n",
    "normalized-losses    41"
   ]
  },
  {
   "cell_type": "code",
   "execution_count": null,
   "id": "f9db01cf",
   "metadata": {},
   "outputs": [],
   "source": [
    "X[['price','peak-rpm','horsepower','stroke','bore','num-of-doors','normalized-losses']].describe()"
   ]
  },
  {
   "cell_type": "code",
   "execution_count": 9,
   "id": "339ac952",
   "metadata": {
    "collapsed": true
   },
   "outputs": [
    {
     "name": "stderr",
     "output_type": "stream",
     "text": [
      "C:\\Users\\excel\\AppData\\Local\\Temp\\ipykernel_26216\\3505210054.py:2: SettingWithCopyWarning: \n",
      "A value is trying to be set on a copy of a slice from a DataFrame.\n",
      "Try using .loc[row_indexer,col_indexer] = value instead\n",
      "\n",
      "See the caveats in the documentation: https://pandas.pydata.org/pandas-docs/stable/user_guide/indexing.html#returning-a-view-versus-a-copy\n",
      "  X['price'] = X['price'].fillna(X['price'].median())\n",
      "C:\\Users\\excel\\AppData\\Local\\Temp\\ipykernel_26216\\3505210054.py:3: SettingWithCopyWarning: \n",
      "A value is trying to be set on a copy of a slice from a DataFrame.\n",
      "Try using .loc[row_indexer,col_indexer] = value instead\n",
      "\n",
      "See the caveats in the documentation: https://pandas.pydata.org/pandas-docs/stable/user_guide/indexing.html#returning-a-view-versus-a-copy\n",
      "  X['normalized-losses'] = X['normalized-losses'].fillna(X['normalized-losses'].median())\n",
      "C:\\Users\\excel\\AppData\\Local\\Temp\\ipykernel_26216\\3505210054.py:4: SettingWithCopyWarning: \n",
      "A value is trying to be set on a copy of a slice from a DataFrame.\n",
      "Try using .loc[row_indexer,col_indexer] = value instead\n",
      "\n",
      "See the caveats in the documentation: https://pandas.pydata.org/pandas-docs/stable/user_guide/indexing.html#returning-a-view-versus-a-copy\n",
      "  X['num-of-doors'] = X['num-of-doors'].fillna(X['num-of-doors'].mode()[0])\n",
      "C:\\Users\\excel\\AppData\\Local\\Temp\\ipykernel_26216\\3505210054.py:5: SettingWithCopyWarning: \n",
      "A value is trying to be set on a copy of a slice from a DataFrame.\n",
      "Try using .loc[row_indexer,col_indexer] = value instead\n",
      "\n",
      "See the caveats in the documentation: https://pandas.pydata.org/pandas-docs/stable/user_guide/indexing.html#returning-a-view-versus-a-copy\n",
      "  X['peak-rpm'] = X['peak-rpm'].fillna(X['peak-rpm'].mean())\n",
      "C:\\Users\\excel\\AppData\\Local\\Temp\\ipykernel_26216\\3505210054.py:6: SettingWithCopyWarning: \n",
      "A value is trying to be set on a copy of a slice from a DataFrame.\n",
      "Try using .loc[row_indexer,col_indexer] = value instead\n",
      "\n",
      "See the caveats in the documentation: https://pandas.pydata.org/pandas-docs/stable/user_guide/indexing.html#returning-a-view-versus-a-copy\n",
      "  X['horsepower'] = X['horsepower'].fillna(X['horsepower'].mean())\n",
      "C:\\Users\\excel\\AppData\\Local\\Temp\\ipykernel_26216\\3505210054.py:7: SettingWithCopyWarning: \n",
      "A value is trying to be set on a copy of a slice from a DataFrame.\n",
      "Try using .loc[row_indexer,col_indexer] = value instead\n",
      "\n",
      "See the caveats in the documentation: https://pandas.pydata.org/pandas-docs/stable/user_guide/indexing.html#returning-a-view-versus-a-copy\n",
      "  X['stroke'] = X['stroke'].fillna(X['stroke'].mean())\n",
      "C:\\Users\\excel\\AppData\\Local\\Temp\\ipykernel_26216\\3505210054.py:8: SettingWithCopyWarning: \n",
      "A value is trying to be set on a copy of a slice from a DataFrame.\n",
      "Try using .loc[row_indexer,col_indexer] = value instead\n",
      "\n",
      "See the caveats in the documentation: https://pandas.pydata.org/pandas-docs/stable/user_guide/indexing.html#returning-a-view-versus-a-copy\n",
      "  X['bore'] = X['bore'].fillna(X['bore'].mean())\n"
     ]
    }
   ],
   "source": [
    "#filling the missing value\n",
    "X['price'] = X['price'].fillna(X['price'].median())\n",
    "X['normalized-losses'] = X['normalized-losses'].fillna(X['normalized-losses'].median())\n",
    "X['num-of-doors'] = X['num-of-doors'].fillna(X['num-of-doors'].mode()[0])\n",
    "X['peak-rpm'] = X['peak-rpm'].fillna(X['peak-rpm'].mean())\n",
    "X['horsepower'] = X['horsepower'].fillna(X['horsepower'].mean())\n",
    "X['stroke'] = X['stroke'].fillna(X['stroke'].mean())\n",
    "X['bore'] = X['bore'].fillna(X['bore'].mean())"
   ]
  },
  {
   "cell_type": "code",
   "execution_count": null,
   "id": "12e0ec66",
   "metadata": {},
   "outputs": [],
   "source": [
    "X.isnull().sum()"
   ]
  },
  {
   "cell_type": "code",
   "execution_count": null,
   "id": "7b021b84",
   "metadata": {},
   "outputs": [],
   "source": [
    "X[['price','peak-rpm','horsepower','stroke','bore','num-of-doors','normalized-losses']].describe()"
   ]
  },
  {
   "cell_type": "code",
   "execution_count": null,
   "id": "b68e142b",
   "metadata": {},
   "outputs": [],
   "source": [
    "X['num-of-doors'].value_counts()"
   ]
  },
  {
   "cell_type": "code",
   "execution_count": null,
   "id": "a858db27",
   "metadata": {},
   "outputs": [],
   "source": [
    "highway-mpg  Feature   Continuous float\n",
    "city-mpg  Feature   Continuous  float\n",
    "engine-size  Feature   Continuous\n",
    "curb-weight  Feature   Continuous\n",
    " num-of-doors  Feature      Integer integer"
   ]
  },
  {
   "cell_type": "code",
   "execution_count": 10,
   "id": "19d22eff",
   "metadata": {
    "collapsed": true
   },
   "outputs": [
    {
     "name": "stderr",
     "output_type": "stream",
     "text": [
      "C:\\Users\\excel\\AppData\\Local\\Temp\\ipykernel_26216\\2207725648.py:1: SettingWithCopyWarning: \n",
      "A value is trying to be set on a copy of a slice from a DataFrame.\n",
      "Try using .loc[row_indexer,col_indexer] = value instead\n",
      "\n",
      "See the caveats in the documentation: https://pandas.pydata.org/pandas-docs/stable/user_guide/indexing.html#returning-a-view-versus-a-copy\n",
      "  X['highway-mpg'] = X['highway-mpg'].astype(float)\n",
      "C:\\Users\\excel\\AppData\\Local\\Temp\\ipykernel_26216\\2207725648.py:2: SettingWithCopyWarning: \n",
      "A value is trying to be set on a copy of a slice from a DataFrame.\n",
      "Try using .loc[row_indexer,col_indexer] = value instead\n",
      "\n",
      "See the caveats in the documentation: https://pandas.pydata.org/pandas-docs/stable/user_guide/indexing.html#returning-a-view-versus-a-copy\n",
      "  X['city-mpg'] = X['city-mpg'].astype(float)\n",
      "C:\\Users\\excel\\AppData\\Local\\Temp\\ipykernel_26216\\2207725648.py:3: SettingWithCopyWarning: \n",
      "A value is trying to be set on a copy of a slice from a DataFrame.\n",
      "Try using .loc[row_indexer,col_indexer] = value instead\n",
      "\n",
      "See the caveats in the documentation: https://pandas.pydata.org/pandas-docs/stable/user_guide/indexing.html#returning-a-view-versus-a-copy\n",
      "  X['engine-size'] = X['engine-size'].astype(float)\n",
      "C:\\Users\\excel\\AppData\\Local\\Temp\\ipykernel_26216\\2207725648.py:4: SettingWithCopyWarning: \n",
      "A value is trying to be set on a copy of a slice from a DataFrame.\n",
      "Try using .loc[row_indexer,col_indexer] = value instead\n",
      "\n",
      "See the caveats in the documentation: https://pandas.pydata.org/pandas-docs/stable/user_guide/indexing.html#returning-a-view-versus-a-copy\n",
      "  X['curb-weight'] = X['curb-weight'].astype(float)\n",
      "C:\\Users\\excel\\AppData\\Local\\Temp\\ipykernel_26216\\2207725648.py:5: SettingWithCopyWarning: \n",
      "A value is trying to be set on a copy of a slice from a DataFrame.\n",
      "Try using .loc[row_indexer,col_indexer] = value instead\n",
      "\n",
      "See the caveats in the documentation: https://pandas.pydata.org/pandas-docs/stable/user_guide/indexing.html#returning-a-view-versus-a-copy\n",
      "  X['num-of-doors'] = X['num-of-doors'].astype(int)\n"
     ]
    }
   ],
   "source": [
    "X['highway-mpg'] = X['highway-mpg'].astype(float)\n",
    "X['city-mpg'] = X['city-mpg'].astype(float)\n",
    "X['engine-size'] = X['engine-size'].astype(float)\n",
    "X['curb-weight'] = X['curb-weight'].astype(float)\n",
    "X['num-of-doors'] = X['num-of-doors'].astype(int)"
   ]
  },
  {
   "cell_type": "code",
   "execution_count": null,
   "id": "e8682b58",
   "metadata": {},
   "outputs": [],
   "source": [
    "print(automobile.variables,X.dtypes,sep = '\\n') "
   ]
  },
  {
   "cell_type": "code",
   "execution_count": 12,
   "id": "a3d45b77",
   "metadata": {},
   "outputs": [
    {
     "name": "stdout",
     "output_type": "stream",
     "text": [
      "Linear regression: 0.7434677407238466 0.5016362939901988\n",
      "Lasso regression: 0.49428531927449837 0.40819597134967467\n",
      "ridge regression: 0.7306961801000916 0.5668834197992235\n"
     ]
    }
   ],
   "source": [
    "# Train and Test split the data\n",
    "X_train, X_test, y_train, y_test = train_test_split(X, y, test_size=0.25, random_state=15)\n",
    "\n",
    "# Linear regression model\n",
    "lr_breast_cancer = LinearRegression()\n",
    "lr_breast_cancer.fit(X_train, y_train)\n",
    "train_score_lr = lr_breast_cancer.score(X_train, y_train)\n",
    "test_score_lr = lr_breast_cancer.score(X_test, y_test)\n",
    "print('Linear regression:',train_score_lr, test_score_lr)\n",
    "\n",
    "\n",
    "# Lasso regression model\n",
    "lasso_breast_cancer = Lasso()\n",
    "lasso_breast_cancer.fit(X_train, y_train)\n",
    "train_score_lasso = lasso_breast_cancer.score(X_train, y_train)\n",
    "test_score_lasso = lasso_breast_cancer.score(X_test, y_test)\n",
    "print('Lasso regression:', train_score_lasso,test_score_lasso)\n",
    "\n",
    "# Ridge regression model\n",
    "Ridge_breast_cancer = Ridge()\n",
    "Ridge_breast_cancer.fit(X_train, y_train)\n",
    "train_score_ridge = Ridge_breast_cancer.score(X_train, y_train)\n",
    "test_score_ridge = Ridge_breast_cancer.score(X_test, y_test)\n",
    "print('ridge regression:',train_score_ridge, test_score_ridge)\n",
    "\n",
    "# ElasticNet regession model\n",
    "# ElasticNet_breast_cancer = ElasticNet()\n",
    "# ElasticNet_breast_cancer.fit(X_train, y_train)\n",
    "# train_score_elastic = ElasticNet_breast_cancer.score(X_train, y_train)\n",
    "# test_score_elasticnet = ElasticNet_breast_cancer.score(X_test, y_test)\n",
    "# print('Elasticnet regression:',train_score_elastic, test_score_elasticnet)\n"
   ]
  },
  {
   "cell_type": "code",
   "execution_count": 13,
   "id": "bdf6cc83",
   "metadata": {},
   "outputs": [],
   "source": [
    "## prediction \n",
    "y_pred_BC_lr = np.round(lr_breast_cancer.predict(X_test))\n",
    "# y_pred_BC_lr"
   ]
  },
  {
   "cell_type": "code",
   "execution_count": 15,
   "id": "d2c2e254",
   "metadata": {},
   "outputs": [
    {
     "data": {
      "text/plain": [
       "[<matplotlib.lines.Line2D at 0x16c1fa49b10>]"
      ]
     },
     "execution_count": 15,
     "metadata": {},
     "output_type": "execute_result"
    },
    {
     "data": {
      "image/png": "[encoded data removed]",
      "text/plain": [
       "<Figure size 640x480 with 1 Axes>"
      ]
     },
     "metadata": {},
     "output_type": "display_data"
    }
   ],
   "source": [
    "plt.plot(y_test,'o',linestyle='none',color = 'blue')\n",
    "plt.plot(y_pred_BC_lr,'x',linestyle='none',markersize = 6,color = 'green')\n"
   ]
  },
  {
   "cell_type": "code",
   "execution_count": 21,
   "id": "7df1bd0d",
   "metadata": {},
   "outputs": [
    {
     "data": {
      "text/plain": [
       "Ridge()"
      ]
     },
     "execution_count": 21,
     "metadata": {},
     "output_type": "execute_result"
    }
   ],
   "source": [
    "sklearn.set_config(display=\"text\")\n",
    "Ridge_breast_cancer = Ridge()\n",
    "Ridge_breast_cancer.fit(X_train, y_train)"
   ]
  },
  {
   "cell_type": "code",
   "execution_count": 22,
   "id": "4243bcf1",
   "metadata": {},
   "outputs": [
    {
     "data": {
      "text/html": [
       "<style>#sk-container-id-2 {\n",
       "  /* Definition of color scheme common for light and dark mode */\n",
       "  --sklearn-color-text: black;\n",
       "  --sklearn-color-line: gray;\n",
       "  /* Definition of color scheme for unfitted estimators */\n",
       "  --sklearn-color-unfitted-level-0: #fff5e6;\n",
       "  --sklearn-color-unfitted-level-1: #f6e4d2;\n",
       "  --sklearn-color-unfitted-level-2: #ffe0b3;\n",
       "  --sklearn-color-unfitted-level-3: chocolate;\n",
       "  /* Definition of color scheme for fitted estimators */\n",
       "  --sklearn-color-fitted-level-0: #f0f8ff;\n",
       "  --sklearn-color-fitted-level-1: #d4ebff;\n",
       "  --sklearn-color-fitted-level-2: #b3dbfd;\n",
       "  --sklearn-color-fitted-level-3: cornflowerblue;\n",
       "\n",
       "  /* Specific color for light theme */\n",
       "  --sklearn-color-text-on-default-background: var(--sg-text-color, var(--theme-code-foreground, var(--jp-content-font-color1, black)));\n",
       "  --sklearn-color-background: var(--sg-background-color, var(--theme-background, var(--jp-layout-color0, white)));\n",
       "  --sklearn-color-border-box: var(--sg-text-color, var(--theme-code-foreground, var(--jp-content-font-color1, black)));\n",
       "  --sklearn-color-icon: #696969;\n",
       "\n",
       "  @media (prefers-color-scheme: dark) {\n",
       "    /* Redefinition of color scheme for dark theme */\n",
       "    --sklearn-color-text-on-default-background: var(--sg-text-color, var(--theme-code-foreground, var(--jp-content-font-color1, white)));\n",
       "    --sklearn-color-background: var(--sg-background-color, var(--theme-background, var(--jp-layout-color0, #111)));\n",
       "    --sklearn-color-border-box: var(--sg-text-color, var(--theme-code-foreground, var(--jp-content-font-color1, white)));\n",
       "    --sklearn-color-icon: #878787;\n",
       "  }\n",
       "}\n",
       "\n",
       "#sk-container-id-2 {\n",
       "  color: var(--sklearn-color-text);\n",
       "}\n",
       "\n",
       "#sk-container-id-2 pre {\n",
       "  padding: 0;\n",
       "}\n",
       "\n",
       "#sk-container-id-2 input.sk-hidden--visually {\n",
       "  border: 0;\n",
       "  clip: rect(1px 1px 1px 1px);\n",
       "  clip: rect(1px, 1px, 1px, 1px);\n",
       "  height: 1px;\n",
       "  margin: -1px;\n",
       "  overflow: hidden;\n",
       "  padding: 0;\n",
       "  position: absolute;\n",
       "  width: 1px;\n",
       "}\n",
       "\n",
       "#sk-container-id-2 div.sk-dashed-wrapped {\n",
       "  border: 1px dashed var(--sklearn-color-line);\n",
       "  margin: 0 0.4em 0.5em 0.4em;\n",
       "  box-sizing: border-box;\n",
       "  padding-bottom: 0.4em;\n",
       "  background-color: var(--sklearn-color-background);\n",
       "}\n",
       "\n",
       "#sk-container-id-2 div.sk-container {\n",
       "  /* jupyter's `normalize.less` sets `[hidden] { display: none; }`\n",
       "     but bootstrap.min.css set `[hidden] { display: none !important; }`\n",
       "     so we also need the `!important` here to be able to override the\n",
       "     default hidden behavior on the sphinx rendered scikit-learn.org.\n",
       "     See: https://github.com/scikit-learn/scikit-learn/issues/21755 */\n",
       "  display: inline-block !important;\n",
       "  position: relative;\n",
       "}\n",
       "\n",
       "#sk-container-id-2 div.sk-text-repr-fallback {\n",
       "  display: none;\n",
       "}\n",
       "\n",
       "div.sk-parallel-item,\n",
       "div.sk-serial,\n",
       "div.sk-item {\n",
       "  /* draw centered vertical line to link estimators */\n",
       "  background-image: linear-gradient(var(--sklearn-color-text-on-default-background), var(--sklearn-color-text-on-default-background));\n",
       "  background-size: 2px 100%;\n",
       "  background-repeat: no-repeat;\n",
       "  background-position: center center;\n",
       "}\n",
       "\n",
       "/* Parallel-specific style estimator block */\n",
       "\n",
       "#sk-container-id-2 div.sk-parallel-item::after {\n",
       "  content: \"\";\n",
       "  width: 100%;\n",
       "  border-bottom: 2px solid var(--sklearn-color-text-on-default-background);\n",
       "  flex-grow: 1;\n",
       "}\n",
       "\n",
       "#sk-container-id-2 div.sk-parallel {\n",
       "  display: flex;\n",
       "  align-items: stretch;\n",
       "  justify-content: center;\n",
       "  background-color: var(--sklearn-color-background);\n",
       "  position: relative;\n",
       "}\n",
       "\n",
       "#sk-container-id-2 div.sk-parallel-item {\n",
       "  display: flex;\n",
       "  flex-direction: column;\n",
       "}\n",
       "\n",
       "#sk-container-id-2 div.sk-parallel-item:first-child::after {\n",
       "  align-self: flex-end;\n",
       "  width: 50%;\n",
       "}\n",
       "\n",
       "#sk-container-id-2 div.sk-parallel-item:last-child::after {\n",
       "  align-self: flex-start;\n",
       "  width: 50%;\n",
       "}\n",
       "\n",
       "#sk-container-id-2 div.sk-parallel-item:only-child::after {\n",
       "  width: 0;\n",
       "}\n",
       "\n",
       "/* Serial-specific style estimator block */\n",
       "\n",
       "#sk-container-id-2 div.sk-serial {\n",
       "  display: flex;\n",
       "  flex-direction: column;\n",
       "  align-items: center;\n",
       "  background-color: var(--sklearn-color-background);\n",
       "  padding-right: 1em;\n",
       "  padding-left: 1em;\n",
       "}\n",
       "\n",
       "\n",
       "/* Toggleable style: style used for estimator/Pipeline/ColumnTransformer box that is\n",
       "clickable and can be expanded/collapsed.\n",
       "- Pipeline and ColumnTransformer use this feature and define the default style\n",
       "- Estimators will overwrite some part of the style using the `sk-estimator` class\n",
       "*/\n",
       "\n",
       "/* Pipeline and ColumnTransformer style (default) */\n",
       "\n",
       "#sk-container-id-2 div.sk-toggleable {\n",
       "  /* Default theme specific background. It is overwritten whether we have a\n",
       "  specific estimator or a Pipeline/ColumnTransformer */\n",
       "  background-color: var(--sklearn-color-background);\n",
       "}\n",
       "\n",
       "/* Toggleable label */\n",
       "#sk-container-id-2 label.sk-toggleable__label {\n",
       "  cursor: pointer;\n",
       "  display: block;\n",
       "  width: 100%;\n",
       "  margin-bottom: 0;\n",
       "  padding: 0.5em;\n",
       "  box-sizing: border-box;\n",
       "  text-align: center;\n",
       "}\n",
       "\n",
       "#sk-container-id-2 label.sk-toggleable__label-arrow:before {\n",
       "  /* Arrow on the left of the label */\n",
       "  content: \"▸\";\n",
       "  float: left;\n",
       "  margin-right: 0.25em;\n",
       "  color: var(--sklearn-color-icon);\n",
       "}\n",
       "\n",
       "#sk-container-id-2 label.sk-toggleable__label-arrow:hover:before {\n",
       "  color: var(--sklearn-color-text);\n",
       "}\n",
       "\n",
       "/* Toggleable content - dropdown */\n",
       "\n",
       "#sk-container-id-2 div.sk-toggleable__content {\n",
       "  max-height: 0;\n",
       "  max-width: 0;\n",
       "  overflow: hidden;\n",
       "  text-align: left;\n",
       "  /* unfitted */\n",
       "  background-color: var(--sklearn-color-unfitted-level-0);\n",
       "}\n",
       "\n",
       "#sk-container-id-2 div.sk-toggleable__content.fitted {\n",
       "  /* fitted */\n",
       "  background-color: var(--sklearn-color-fitted-level-0);\n",
       "}\n",
       "\n",
       "#sk-container-id-2 div.sk-toggleable__content pre {\n",
       "  margin: 0.2em;\n",
       "  border-radius: 0.25em;\n",
       "  color: var(--sklearn-color-text);\n",
       "  /* unfitted */\n",
       "  background-color: var(--sklearn-color-unfitted-level-0);\n",
       "}\n",
       "\n",
       "#sk-container-id-2 div.sk-toggleable__content.fitted pre {\n",
       "  /* unfitted */\n",
       "  background-color: var(--sklearn-color-fitted-level-0);\n",
       "}\n",
       "\n",
       "#sk-container-id-2 input.sk-toggleable__control:checked~div.sk-toggleable__content {\n",
       "  /* Expand drop-down */\n",
       "  max-height: 200px;\n",
       "  max-width: 100%;\n",
       "  overflow: auto;\n",
       "}\n",
       "\n",
       "#sk-container-id-2 input.sk-toggleable__control:checked~label.sk-toggleable__label-arrow:before {\n",
       "  content: \"▾\";\n",
       "}\n",
       "\n",
       "/* Pipeline/ColumnTransformer-specific style */\n",
       "\n",
       "#sk-container-id-2 div.sk-label input.sk-toggleable__control:checked~label.sk-toggleable__label {\n",
       "  color: var(--sklearn-color-text);\n",
       "  background-color: var(--sklearn-color-unfitted-level-2);\n",
       "}\n",
       "\n",
       "#sk-container-id-2 div.sk-label.fitted input.sk-toggleable__control:checked~label.sk-toggleable__label {\n",
       "  background-color: var(--sklearn-color-fitted-level-2);\n",
       "}\n",
       "\n",
       "/* Estimator-specific style */\n",
       "\n",
       "/* Colorize estimator box */\n",
       "#sk-container-id-2 div.sk-estimator input.sk-toggleable__control:checked~label.sk-toggleable__label {\n",
       "  /* unfitted */\n",
       "  background-color: var(--sklearn-color-unfitted-level-2);\n",
       "}\n",
       "\n",
       "#sk-container-id-2 div.sk-estimator.fitted input.sk-toggleable__control:checked~label.sk-toggleable__label {\n",
       "  /* fitted */\n",
       "  background-color: var(--sklearn-color-fitted-level-2);\n",
       "}\n",
       "\n",
       "#sk-container-id-2 div.sk-label label.sk-toggleable__label,\n",
       "#sk-container-id-2 div.sk-label label {\n",
       "  /* The background is the default theme color */\n",
       "  color: var(--sklearn-color-text-on-default-background);\n",
       "}\n",
       "\n",
       "/* On hover, darken the color of the background */\n",
       "#sk-container-id-2 div.sk-label:hover label.sk-toggleable__label {\n",
       "  color: var(--sklearn-color-text);\n",
       "  background-color: var(--sklearn-color-unfitted-level-2);\n",
       "}\n",
       "\n",
       "/* Label box, darken color on hover, fitted */\n",
       "#sk-container-id-2 div.sk-label.fitted:hover label.sk-toggleable__label.fitted {\n",
       "  color: var(--sklearn-color-text);\n",
       "  background-color: var(--sklearn-color-fitted-level-2);\n",
       "}\n",
       "\n",
       "/* Estimator label */\n",
       "\n",
       "#sk-container-id-2 div.sk-label label {\n",
       "  font-family: monospace;\n",
       "  font-weight: bold;\n",
       "  display: inline-block;\n",
       "  line-height: 1.2em;\n",
       "}\n",
       "\n",
       "#sk-container-id-2 div.sk-label-container {\n",
       "  text-align: center;\n",
       "}\n",
       "\n",
       "/* Estimator-specific */\n",
       "#sk-container-id-2 div.sk-estimator {\n",
       "  font-family: monospace;\n",
       "  border: 1px dotted var(--sklearn-color-border-box);\n",
       "  border-radius: 0.25em;\n",
       "  box-sizing: border-box;\n",
       "  margin-bottom: 0.5em;\n",
       "  /* unfitted */\n",
       "  background-color: var(--sklearn-color-unfitted-level-0);\n",
       "}\n",
       "\n",
       "#sk-container-id-2 div.sk-estimator.fitted {\n",
       "  /* fitted */\n",
       "  background-color: var(--sklearn-color-fitted-level-0);\n",
       "}\n",
       "\n",
       "/* on hover */\n",
       "#sk-container-id-2 div.sk-estimator:hover {\n",
       "  /* unfitted */\n",
       "  background-color: var(--sklearn-color-unfitted-level-2);\n",
       "}\n",
       "\n",
       "#sk-container-id-2 div.sk-estimator.fitted:hover {\n",
       "  /* fitted */\n",
       "  background-color: var(--sklearn-color-fitted-level-2);\n",
       "}\n",
       "\n",
       "/* Specification for estimator info (e.g. \"i\" and \"?\") */\n",
       "\n",
       "/* Common style for \"i\" and \"?\" */\n",
       "\n",
       ".sk-estimator-doc-link,\n",
       "a:link.sk-estimator-doc-link,\n",
       "a:visited.sk-estimator-doc-link {\n",
       "  float: right;\n",
       "  font-size: smaller;\n",
       "  line-height: 1em;\n",
       "  font-family: monospace;\n",
       "  background-color: var(--sklearn-color-background);\n",
       "  border-radius: 1em;\n",
       "  height: 1em;\n",
       "  width: 1em;\n",
       "  text-decoration: none !important;\n",
       "  margin-left: 1ex;\n",
       "  /* unfitted */\n",
       "  border: var(--sklearn-color-unfitted-level-1) 1pt solid;\n",
       "  color: var(--sklearn-color-unfitted-level-1);\n",
       "}\n",
       "\n",
       ".sk-estimator-doc-link.fitted,\n",
       "a:link.sk-estimator-doc-link.fitted,\n",
       "a:visited.sk-estimator-doc-link.fitted {\n",
       "  /* fitted */\n",
       "  border: var(--sklearn-color-fitted-level-1) 1pt solid;\n",
       "  color: var(--sklearn-color-fitted-level-1);\n",
       "}\n",
       "\n",
       "/* On hover */\n",
       "div.sk-estimator:hover .sk-estimator-doc-link:hover,\n",
       ".sk-estimator-doc-link:hover,\n",
       "div.sk-label-container:hover .sk-estimator-doc-link:hover,\n",
       ".sk-estimator-doc-link:hover {\n",
       "  /* unfitted */\n",
       "  background-color: var(--sklearn-color-unfitted-level-3);\n",
       "  color: var(--sklearn-color-background);\n",
       "  text-decoration: none;\n",
       "}\n",
       "\n",
       "div.sk-estimator.fitted:hover .sk-estimator-doc-link.fitted:hover,\n",
       ".sk-estimator-doc-link.fitted:hover,\n",
       "div.sk-label-container:hover .sk-estimator-doc-link.fitted:hover,\n",
       ".sk-estimator-doc-link.fitted:hover {\n",
       "  /* fitted */\n",
       "  background-color: var(--sklearn-color-fitted-level-3);\n",
       "  color: var(--sklearn-color-background);\n",
       "  text-decoration: none;\n",
       "}\n",
       "\n",
       "/* Span, style for the box shown on hovering the info icon */\n",
       ".sk-estimator-doc-link span {\n",
       "  display: none;\n",
       "  z-index: 9999;\n",
       "  position: relative;\n",
       "  font-weight: normal;\n",
       "  right: .2ex;\n",
       "  padding: .5ex;\n",
       "  margin: .5ex;\n",
       "  width: min-content;\n",
       "  min-width: 20ex;\n",
       "  max-width: 50ex;\n",
       "  color: var(--sklearn-color-text);\n",
       "  box-shadow: 2pt 2pt 4pt #999;\n",
       "  /* unfitted */\n",
       "  background: var(--sklearn-color-unfitted-level-0);\n",
       "  border: .5pt solid var(--sklearn-color-unfitted-level-3);\n",
       "}\n",
       "\n",
       ".sk-estimator-doc-link.fitted span {\n",
       "  /* fitted */\n",
       "  background: var(--sklearn-color-fitted-level-0);\n",
       "  border: var(--sklearn-color-fitted-level-3);\n",
       "}\n",
       "\n",
       ".sk-estimator-doc-link:hover span {\n",
       "  display: block;\n",
       "}\n",
       "\n",
       "/* \"?\"-specific style due to the `<a>` HTML tag */\n",
       "\n",
       "#sk-container-id-2 a.estimator_doc_link {\n",
       "  float: right;\n",
       "  font-size: 1rem;\n",
       "  line-height: 1em;\n",
       "  font-family: monospace;\n",
       "  background-color: var(--sklearn-color-background);\n",
       "  border-radius: 1rem;\n",
       "  height: 1rem;\n",
       "  width: 1rem;\n",
       "  text-decoration: none;\n",
       "  /* unfitted */\n",
       "  color: var(--sklearn-color-unfitted-level-1);\n",
       "  border: var(--sklearn-color-unfitted-level-1) 1pt solid;\n",
       "}\n",
       "\n",
       "#sk-container-id-2 a.estimator_doc_link.fitted {\n",
       "  /* fitted */\n",
       "  border: var(--sklearn-color-fitted-level-1) 1pt solid;\n",
       "  color: var(--sklearn-color-fitted-level-1);\n",
       "}\n",
       "\n",
       "/* On hover */\n",
       "#sk-container-id-2 a.estimator_doc_link:hover {\n",
       "  /* unfitted */\n",
       "  background-color: var(--sklearn-color-unfitted-level-3);\n",
       "  color: var(--sklearn-color-background);\n",
       "  text-decoration: none;\n",
       "}\n",
       "\n",
       "#sk-container-id-2 a.estimator_doc_link.fitted:hover {\n",
       "  /* fitted */\n",
       "  background-color: var(--sklearn-color-fitted-level-3);\n",
       "}\n",
       "</style><div id=\"sk-container-id-2\" class=\"sk-top-container\"><div class=\"sk-text-repr-fallback\"><pre>Ridge()</pre><b>In a Jupyter environment, please rerun this cell to show the HTML representation or trust the notebook. <br />On GitHub, the HTML representation is unable to render, please try loading this page with nbviewer.org.</b></div><div class=\"sk-container\" hidden><div class=\"sk-item\"><div class=\"sk-estimator fitted sk-toggleable\"><input class=\"sk-toggleable__control sk-hidden--visually\" id=\"sk-estimator-id-2\" type=\"checkbox\" checked><label for=\"sk-estimator-id-2\" class=\"sk-toggleable__label fitted sk-toggleable__label-arrow fitted\">&nbsp;&nbsp;Ridge<a class=\"sk-estimator-doc-link fitted\" rel=\"noreferrer\" target=\"_blank\" href=\"https://scikit-learn.org/1.4/modules/generated/sklearn.linear_model.Ridge.html\">?<span>Documentation for Ridge</span></a><span class=\"sk-estimator-doc-link fitted\">i<span>Fitted</span></span></label><div class=\"sk-toggleable__content fitted\"><pre>Ridge()</pre></div> </div></div></div></div>"
      ],
      "text/plain": [
       "Ridge()"
      ]
     },
     "execution_count": 22,
     "metadata": {},
     "output_type": "execute_result"
    }
   ],
   "source": [
    "sklearn.set_config(display=\"diagram\")\n",
    "Ridge_breast_cancer = Ridge()\n",
    "Ridge_breast_cancer.fit(X_train, y_train)"
   ]
  },
  {
   "cell_type": "code",
   "execution_count": 23,
   "id": "2fa055b8",
   "metadata": {},
   "outputs": [
    {
     "data": {
      "text/plain": [
       "{'assume_finite': False,\n",
       " 'working_memory': 1024,\n",
       " 'print_changed_only': True,\n",
       " 'display': 'diagram',\n",
       " 'pairwise_dist_chunk_size': 256,\n",
       " 'enable_cython_pairwise_dist': True,\n",
       " 'array_api_dispatch': False,\n",
       " 'transform_output': 'default',\n",
       " 'enable_metadata_routing': False,\n",
       " 'skip_parameter_validation': False}"
      ]
     },
     "execution_count": 23,
     "metadata": {},
     "output_type": "execute_result"
    }
   ],
   "source": [
    "sklearn.get_config()"
   ]
  },
  {
   "cell_type": "code",
   "execution_count": 26,
   "id": "5b177d48",
   "metadata": {
    "collapsed": true
   },
   "outputs": [
    {
     "name": "stdout",
     "output_type": "stream",
     "text": [
      "\n",
      "System:\n",
      "    python: 3.11.5 | packaged by Anaconda, Inc. | (main, Sep 11 2023, 13:26:23) [MSC v.1916 64 bit (AMD64)]\n",
      "executable: C:\\ProgramData\\anaconda3\\New folder\\python.exe\n",
      "   machine: Windows-10-10.0.22631-SP0\n",
      "\n",
      "Python dependencies:\n",
      "      sklearn: 1.4.2\n",
      "          pip: 23.2.1\n",
      "   setuptools: 68.0.0\n",
      "        numpy: 1.24.3\n",
      "        scipy: 1.11.1\n",
      "       Cython: None\n",
      "       pandas: 2.0.3\n",
      "   matplotlib: 3.7.2\n",
      "       joblib: 1.2.0\n",
      "threadpoolctl: 2.2.0\n",
      "\n",
      "Built with OpenMP: True\n",
      "\n",
      "threadpoolctl info:\n",
      "       filepath: C:\\ProgramData\\anaconda3\\New folder\\Library\\bin\\mkl_rt.2.dll\n",
      "         prefix: mkl_rt\n",
      "       user_api: blas\n",
      "   internal_api: mkl\n",
      "        version: 2023.1-Product\n",
      "    num_threads: 10\n",
      "threading_layer: intel\n",
      "\n",
      "       filepath: C:\\Users\\excel\\AppData\\Roaming\\Python\\Python311\\site-packages\\sklearn\\.libs\\vcomp140.dll\n",
      "         prefix: vcomp\n",
      "       user_api: openmp\n",
      "   internal_api: openmp\n",
      "        version: None\n",
      "    num_threads: 12\n",
      "\n",
      "       filepath: C:\\ProgramData\\anaconda3\\New folder\\Library\\bin\\libiomp5md.dll\n",
      "         prefix: libiomp\n",
      "       user_api: openmp\n",
      "   internal_api: openmp\n",
      "        version: None\n",
      "    num_threads: 12\n"
     ]
    }
   ],
   "source": [
    "sklearn.show_versions()"
   ]
  },
  {
   "cell_type": "code",
   "execution_count": 29,
   "id": "538be449",
   "metadata": {},
   "outputs": [
    {
     "data": {
      "text/html": [
       "<style>#sk-container-id-3 {\n",
       "  /* Definition of color scheme common for light and dark mode */\n",
       "  --sklearn-color-text: black;\n",
       "  --sklearn-color-line: gray;\n",
       "  /* Definition of color scheme for unfitted estimators */\n",
       "  --sklearn-color-unfitted-level-0: #fff5e6;\n",
       "  --sklearn-color-unfitted-level-1: #f6e4d2;\n",
       "  --sklearn-color-unfitted-level-2: #ffe0b3;\n",
       "  --sklearn-color-unfitted-level-3: chocolate;\n",
       "  /* Definition of color scheme for fitted estimators */\n",
       "  --sklearn-color-fitted-level-0: #f0f8ff;\n",
       "  --sklearn-color-fitted-level-1: #d4ebff;\n",
       "  --sklearn-color-fitted-level-2: #b3dbfd;\n",
       "  --sklearn-color-fitted-level-3: cornflowerblue;\n",
       "\n",
       "  /* Specific color for light theme */\n",
       "  --sklearn-color-text-on-default-background: var(--sg-text-color, var(--theme-code-foreground, var(--jp-content-font-color1, black)));\n",
       "  --sklearn-color-background: var(--sg-background-color, var(--theme-background, var(--jp-layout-color0, white)));\n",
       "  --sklearn-color-border-box: var(--sg-text-color, var(--theme-code-foreground, var(--jp-content-font-color1, black)));\n",
       "  --sklearn-color-icon: #696969;\n",
       "\n",
       "  @media (prefers-color-scheme: dark) {\n",
       "    /* Redefinition of color scheme for dark theme */\n",
       "    --sklearn-color-text-on-default-background: var(--sg-text-color, var(--theme-code-foreground, var(--jp-content-font-color1, white)));\n",
       "    --sklearn-color-background: var(--sg-background-color, var(--theme-background, var(--jp-layout-color0, #111)));\n",
       "    --sklearn-color-border-box: var(--sg-text-color, var(--theme-code-foreground, var(--jp-content-font-color1, white)));\n",
       "    --sklearn-color-icon: #878787;\n",
       "  }\n",
       "}\n",
       "\n",
       "#sk-container-id-3 {\n",
       "  color: var(--sklearn-color-text);\n",
       "}\n",
       "\n",
       "#sk-container-id-3 pre {\n",
       "  padding: 0;\n",
       "}\n",
       "\n",
       "#sk-container-id-3 input.sk-hidden--visually {\n",
       "  border: 0;\n",
       "  clip: rect(1px 1px 1px 1px);\n",
       "  clip: rect(1px, 1px, 1px, 1px);\n",
       "  height: 1px;\n",
       "  margin: -1px;\n",
       "  overflow: hidden;\n",
       "  padding: 0;\n",
       "  position: absolute;\n",
       "  width: 1px;\n",
       "}\n",
       "\n",
       "#sk-container-id-3 div.sk-dashed-wrapped {\n",
       "  border: 1px dashed var(--sklearn-color-line);\n",
       "  margin: 0 0.4em 0.5em 0.4em;\n",
       "  box-sizing: border-box;\n",
       "  padding-bottom: 0.4em;\n",
       "  background-color: var(--sklearn-color-background);\n",
       "}\n",
       "\n",
       "#sk-container-id-3 div.sk-container {\n",
       "  /* jupyter's `normalize.less` sets `[hidden] { display: none; }`\n",
       "     but bootstrap.min.css set `[hidden] { display: none !important; }`\n",
       "     so we also need the `!important` here to be able to override the\n",
       "     default hidden behavior on the sphinx rendered scikit-learn.org.\n",
       "     See: https://github.com/scikit-learn/scikit-learn/issues/21755 */\n",
       "  display: inline-block !important;\n",
       "  position: relative;\n",
       "}\n",
       "\n",
       "#sk-container-id-3 div.sk-text-repr-fallback {\n",
       "  display: none;\n",
       "}\n",
       "\n",
       "div.sk-parallel-item,\n",
       "div.sk-serial,\n",
       "div.sk-item {\n",
       "  /* draw centered vertical line to link estimators */\n",
       "  background-image: linear-gradient(var(--sklearn-color-text-on-default-background), var(--sklearn-color-text-on-default-background));\n",
       "  background-size: 2px 100%;\n",
       "  background-repeat: no-repeat;\n",
       "  background-position: center center;\n",
       "}\n",
       "\n",
       "/* Parallel-specific style estimator block */\n",
       "\n",
       "#sk-container-id-3 div.sk-parallel-item::after {\n",
       "  content: \"\";\n",
       "  width: 100%;\n",
       "  border-bottom: 2px solid var(--sklearn-color-text-on-default-background);\n",
       "  flex-grow: 1;\n",
       "}\n",
       "\n",
       "#sk-container-id-3 div.sk-parallel {\n",
       "  display: flex;\n",
       "  align-items: stretch;\n",
       "  justify-content: center;\n",
       "  background-color: var(--sklearn-color-background);\n",
       "  position: relative;\n",
       "}\n",
       "\n",
       "#sk-container-id-3 div.sk-parallel-item {\n",
       "  display: flex;\n",
       "  flex-direction: column;\n",
       "}\n",
       "\n",
       "#sk-container-id-3 div.sk-parallel-item:first-child::after {\n",
       "  align-self: flex-end;\n",
       "  width: 50%;\n",
       "}\n",
       "\n",
       "#sk-container-id-3 div.sk-parallel-item:last-child::after {\n",
       "  align-self: flex-start;\n",
       "  width: 50%;\n",
       "}\n",
       "\n",
       "#sk-container-id-3 div.sk-parallel-item:only-child::after {\n",
       "  width: 0;\n",
       "}\n",
       "\n",
       "/* Serial-specific style estimator block */\n",
       "\n",
       "#sk-container-id-3 div.sk-serial {\n",
       "  display: flex;\n",
       "  flex-direction: column;\n",
       "  align-items: center;\n",
       "  background-color: var(--sklearn-color-background);\n",
       "  padding-right: 1em;\n",
       "  padding-left: 1em;\n",
       "}\n",
       "\n",
       "\n",
       "/* Toggleable style: style used for estimator/Pipeline/ColumnTransformer box that is\n",
       "clickable and can be expanded/collapsed.\n",
       "- Pipeline and ColumnTransformer use this feature and define the default style\n",
       "- Estimators will overwrite some part of the style using the `sk-estimator` class\n",
       "*/\n",
       "\n",
       "/* Pipeline and ColumnTransformer style (default) */\n",
       "\n",
       "#sk-container-id-3 div.sk-toggleable {\n",
       "  /* Default theme specific background. It is overwritten whether we have a\n",
       "  specific estimator or a Pipeline/ColumnTransformer */\n",
       "  background-color: var(--sklearn-color-background);\n",
       "}\n",
       "\n",
       "/* Toggleable label */\n",
       "#sk-container-id-3 label.sk-toggleable__label {\n",
       "  cursor: pointer;\n",
       "  display: block;\n",
       "  width: 100%;\n",
       "  margin-bottom: 0;\n",
       "  padding: 0.5em;\n",
       "  box-sizing: border-box;\n",
       "  text-align: center;\n",
       "}\n",
       "\n",
       "#sk-container-id-3 label.sk-toggleable__label-arrow:before {\n",
       "  /* Arrow on the left of the label */\n",
       "  content: \"▸\";\n",
       "  float: left;\n",
       "  margin-right: 0.25em;\n",
       "  color: var(--sklearn-color-icon);\n",
       "}\n",
       "\n",
       "#sk-container-id-3 label.sk-toggleable__label-arrow:hover:before {\n",
       "  color: var(--sklearn-color-text);\n",
       "}\n",
       "\n",
       "/* Toggleable content - dropdown */\n",
       "\n",
       "#sk-container-id-3 div.sk-toggleable__content {\n",
       "  max-height: 0;\n",
       "  max-width: 0;\n",
       "  overflow: hidden;\n",
       "  text-align: left;\n",
       "  /* unfitted */\n",
       "  background-color: var(--sklearn-color-unfitted-level-0);\n",
       "}\n",
       "\n",
       "#sk-container-id-3 div.sk-toggleable__content.fitted {\n",
       "  /* fitted */\n",
       "  background-color: var(--sklearn-color-fitted-level-0);\n",
       "}\n",
       "\n",
       "#sk-container-id-3 div.sk-toggleable__content pre {\n",
       "  margin: 0.2em;\n",
       "  border-radius: 0.25em;\n",
       "  color: var(--sklearn-color-text);\n",
       "  /* unfitted */\n",
       "  background-color: var(--sklearn-color-unfitted-level-0);\n",
       "}\n",
       "\n",
       "#sk-container-id-3 div.sk-toggleable__content.fitted pre {\n",
       "  /* unfitted */\n",
       "  background-color: var(--sklearn-color-fitted-level-0);\n",
       "}\n",
       "\n",
       "#sk-container-id-3 input.sk-toggleable__control:checked~div.sk-toggleable__content {\n",
       "  /* Expand drop-down */\n",
       "  max-height: 200px;\n",
       "  max-width: 100%;\n",
       "  overflow: auto;\n",
       "}\n",
       "\n",
       "#sk-container-id-3 input.sk-toggleable__control:checked~label.sk-toggleable__label-arrow:before {\n",
       "  content: \"▾\";\n",
       "}\n",
       "\n",
       "/* Pipeline/ColumnTransformer-specific style */\n",
       "\n",
       "#sk-container-id-3 div.sk-label input.sk-toggleable__control:checked~label.sk-toggleable__label {\n",
       "  color: var(--sklearn-color-text);\n",
       "  background-color: var(--sklearn-color-unfitted-level-2);\n",
       "}\n",
       "\n",
       "#sk-container-id-3 div.sk-label.fitted input.sk-toggleable__control:checked~label.sk-toggleable__label {\n",
       "  background-color: var(--sklearn-color-fitted-level-2);\n",
       "}\n",
       "\n",
       "/* Estimator-specific style */\n",
       "\n",
       "/* Colorize estimator box */\n",
       "#sk-container-id-3 div.sk-estimator input.sk-toggleable__control:checked~label.sk-toggleable__label {\n",
       "  /* unfitted */\n",
       "  background-color: var(--sklearn-color-unfitted-level-2);\n",
       "}\n",
       "\n",
       "#sk-container-id-3 div.sk-estimator.fitted input.sk-toggleable__control:checked~label.sk-toggleable__label {\n",
       "  /* fitted */\n",
       "  background-color: var(--sklearn-color-fitted-level-2);\n",
       "}\n",
       "\n",
       "#sk-container-id-3 div.sk-label label.sk-toggleable__label,\n",
       "#sk-container-id-3 div.sk-label label {\n",
       "  /* The background is the default theme color */\n",
       "  color: var(--sklearn-color-text-on-default-background);\n",
       "}\n",
       "\n",
       "/* On hover, darken the color of the background */\n",
       "#sk-container-id-3 div.sk-label:hover label.sk-toggleable__label {\n",
       "  color: var(--sklearn-color-text);\n",
       "  background-color: var(--sklearn-color-unfitted-level-2);\n",
       "}\n",
       "\n",
       "/* Label box, darken color on hover, fitted */\n",
       "#sk-container-id-3 div.sk-label.fitted:hover label.sk-toggleable__label.fitted {\n",
       "  color: var(--sklearn-color-text);\n",
       "  background-color: var(--sklearn-color-fitted-level-2);\n",
       "}\n",
       "\n",
       "/* Estimator label */\n",
       "\n",
       "#sk-container-id-3 div.sk-label label {\n",
       "  font-family: monospace;\n",
       "  font-weight: bold;\n",
       "  display: inline-block;\n",
       "  line-height: 1.2em;\n",
       "}\n",
       "\n",
       "#sk-container-id-3 div.sk-label-container {\n",
       "  text-align: center;\n",
       "}\n",
       "\n",
       "/* Estimator-specific */\n",
       "#sk-container-id-3 div.sk-estimator {\n",
       "  font-family: monospace;\n",
       "  border: 1px dotted var(--sklearn-color-border-box);\n",
       "  border-radius: 0.25em;\n",
       "  box-sizing: border-box;\n",
       "  margin-bottom: 0.5em;\n",
       "  /* unfitted */\n",
       "  background-color: var(--sklearn-color-unfitted-level-0);\n",
       "}\n",
       "\n",
       "#sk-container-id-3 div.sk-estimator.fitted {\n",
       "  /* fitted */\n",
       "  background-color: var(--sklearn-color-fitted-level-0);\n",
       "}\n",
       "\n",
       "/* on hover */\n",
       "#sk-container-id-3 div.sk-estimator:hover {\n",
       "  /* unfitted */\n",
       "  background-color: var(--sklearn-color-unfitted-level-2);\n",
       "}\n",
       "\n",
       "#sk-container-id-3 div.sk-estimator.fitted:hover {\n",
       "  /* fitted */\n",
       "  background-color: var(--sklearn-color-fitted-level-2);\n",
       "}\n",
       "\n",
       "/* Specification for estimator info (e.g. \"i\" and \"?\") */\n",
       "\n",
       "/* Common style for \"i\" and \"?\" */\n",
       "\n",
       ".sk-estimator-doc-link,\n",
       "a:link.sk-estimator-doc-link,\n",
       "a:visited.sk-estimator-doc-link {\n",
       "  float: right;\n",
       "  font-size: smaller;\n",
       "  line-height: 1em;\n",
       "  font-family: monospace;\n",
       "  background-color: var(--sklearn-color-background);\n",
       "  border-radius: 1em;\n",
       "  height: 1em;\n",
       "  width: 1em;\n",
       "  text-decoration: none !important;\n",
       "  margin-left: 1ex;\n",
       "  /* unfitted */\n",
       "  border: var(--sklearn-color-unfitted-level-1) 1pt solid;\n",
       "  color: var(--sklearn-color-unfitted-level-1);\n",
       "}\n",
       "\n",
       ".sk-estimator-doc-link.fitted,\n",
       "a:link.sk-estimator-doc-link.fitted,\n",
       "a:visited.sk-estimator-doc-link.fitted {\n",
       "  /* fitted */\n",
       "  border: var(--sklearn-color-fitted-level-1) 1pt solid;\n",
       "  color: var(--sklearn-color-fitted-level-1);\n",
       "}\n",
       "\n",
       "/* On hover */\n",
       "div.sk-estimator:hover .sk-estimator-doc-link:hover,\n",
       ".sk-estimator-doc-link:hover,\n",
       "div.sk-label-container:hover .sk-estimator-doc-link:hover,\n",
       ".sk-estimator-doc-link:hover {\n",
       "  /* unfitted */\n",
       "  background-color: var(--sklearn-color-unfitted-level-3);\n",
       "  color: var(--sklearn-color-background);\n",
       "  text-decoration: none;\n",
       "}\n",
       "\n",
       "div.sk-estimator.fitted:hover .sk-estimator-doc-link.fitted:hover,\n",
       ".sk-estimator-doc-link.fitted:hover,\n",
       "div.sk-label-container:hover .sk-estimator-doc-link.fitted:hover,\n",
       ".sk-estimator-doc-link.fitted:hover {\n",
       "  /* fitted */\n",
       "  background-color: var(--sklearn-color-fitted-level-3);\n",
       "  color: var(--sklearn-color-background);\n",
       "  text-decoration: none;\n",
       "}\n",
       "\n",
       "/* Span, style for the box shown on hovering the info icon */\n",
       ".sk-estimator-doc-link span {\n",
       "  display: none;\n",
       "  z-index: 9999;\n",
       "  position: relative;\n",
       "  font-weight: normal;\n",
       "  right: .2ex;\n",
       "  padding: .5ex;\n",
       "  margin: .5ex;\n",
       "  width: min-content;\n",
       "  min-width: 20ex;\n",
       "  max-width: 50ex;\n",
       "  color: var(--sklearn-color-text);\n",
       "  box-shadow: 2pt 2pt 4pt #999;\n",
       "  /* unfitted */\n",
       "  background: var(--sklearn-color-unfitted-level-0);\n",
       "  border: .5pt solid var(--sklearn-color-unfitted-level-3);\n",
       "}\n",
       "\n",
       ".sk-estimator-doc-link.fitted span {\n",
       "  /* fitted */\n",
       "  background: var(--sklearn-color-fitted-level-0);\n",
       "  border: var(--sklearn-color-fitted-level-3);\n",
       "}\n",
       "\n",
       ".sk-estimator-doc-link:hover span {\n",
       "  display: block;\n",
       "}\n",
       "\n",
       "/* \"?\"-specific style due to the `<a>` HTML tag */\n",
       "\n",
       "#sk-container-id-3 a.estimator_doc_link {\n",
       "  float: right;\n",
       "  font-size: 1rem;\n",
       "  line-height: 1em;\n",
       "  font-family: monospace;\n",
       "  background-color: var(--sklearn-color-background);\n",
       "  border-radius: 1rem;\n",
       "  height: 1rem;\n",
       "  width: 1rem;\n",
       "  text-decoration: none;\n",
       "  /* unfitted */\n",
       "  color: var(--sklearn-color-unfitted-level-1);\n",
       "  border: var(--sklearn-color-unfitted-level-1) 1pt solid;\n",
       "}\n",
       "\n",
       "#sk-container-id-3 a.estimator_doc_link.fitted {\n",
       "  /* fitted */\n",
       "  border: var(--sklearn-color-fitted-level-1) 1pt solid;\n",
       "  color: var(--sklearn-color-fitted-level-1);\n",
       "}\n",
       "\n",
       "/* On hover */\n",
       "#sk-container-id-3 a.estimator_doc_link:hover {\n",
       "  /* unfitted */\n",
       "  background-color: var(--sklearn-color-unfitted-level-3);\n",
       "  color: var(--sklearn-color-background);\n",
       "  text-decoration: none;\n",
       "}\n",
       "\n",
       "#sk-container-id-3 a.estimator_doc_link.fitted:hover {\n",
       "  /* fitted */\n",
       "  background-color: var(--sklearn-color-fitted-level-3);\n",
       "}\n",
       "</style><div id=\"sk-container-id-3\" class=\"sk-top-container\"><div class=\"sk-text-repr-fallback\"><pre>BaseEstimator()</pre><b>In a Jupyter environment, please rerun this cell to show the HTML representation or trust the notebook. <br />On GitHub, the HTML representation is unable to render, please try loading this page with nbviewer.org.</b></div><div class=\"sk-container\" hidden><div class=\"sk-item\"><div class=\"sk-estimator  sk-toggleable\"><input class=\"sk-toggleable__control sk-hidden--visually\" id=\"sk-estimator-id-3\" type=\"checkbox\" checked><label for=\"sk-estimator-id-3\" class=\"sk-toggleable__label  sk-toggleable__label-arrow \">&nbsp;&nbsp;BaseEstimator<a class=\"sk-estimator-doc-link \" rel=\"noreferrer\" target=\"_blank\" href=\"https://scikit-learn.org/1.4/modules/generated/sklearn.base.BaseEstimator.html\">?<span>Documentation for BaseEstimator</span></a><span class=\"sk-estimator-doc-link \">i<span>Not fitted</span></span></label><div class=\"sk-toggleable__content \"><pre>BaseEstimator()</pre></div> </div></div></div></div>"
      ],
      "text/plain": [
       "BaseEstimator()"
      ]
     },
     "execution_count": 29,
     "metadata": {},
     "output_type": "execute_result"
    }
   ],
   "source": [
    "sklearn.base.BaseEstimator()"
   ]
  },
  {
   "cell_type": "code",
   "execution_count": null,
   "id": "1f2cb00f",
   "metadata": {},
   "outputs": [],
   "source": []
  }
 ],
 "metadata": {
  "kernelspec": {
   "display_name": "Python 3 (ipykernel)",
   "language": "python",
   "name": "python3"
  },
  "language_info": {
   "codemirror_mode": {
    "name": "ipython",
    "version": 3
   },
   "file_extension": ".py",
   "mimetype": "text/x-python",
   "name": "python",
   "nbconvert_exporter": "python",
   "pygments_lexer": "ipython3",
   "version": "3.11.5"
  }
 },
 "nbformat": 4,
 "nbformat_minor": 5
}
